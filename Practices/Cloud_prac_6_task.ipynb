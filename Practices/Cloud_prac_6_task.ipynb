{
  "nbformat": 4,
  "nbformat_minor": 0,
  "metadata": {
    "colab": {
      "provenance": []
    },
    "kernelspec": {
      "name": "python3",
      "display_name": "Python 3"
    },
    "language_info": {
      "name": "python"
    }
  },
  "cells": [
    {
      "cell_type": "code",
      "execution_count": null,
      "metadata": {
        "id": "YedoDafZ6jWh"
      },
      "outputs": [],
      "source": [
        "import requests\n",
        "from bs4 import BeautifulSoup\n",
        "\n",
        "def fetch_page(url):\n",
        "    response = requests.get(url)\n",
        "    if response.status_code == 200:\n",
        "        soup = BeautifulSoup(response.text, 'html.parser')\n",
        "        return soup\n",
        "    else:\n",
        "        return None"
      ]
    },
    {
      "cell_type": "code",
      "source": [
        "import re\n",
        "\n",
        "def index_words(soup):\n",
        "    index = {}\n",
        "    words = re.findall(r'\\w+', soup.get_text())\n",
        "    for word in words:\n",
        "        word = word.lower()\n",
        "        if word in index:\n",
        "            index[word] += 1\n",
        "        else:\n",
        "            index[word] = 1\n",
        "    return index"
      ],
      "metadata": {
        "id": "hlrxp7LBAIsR"
      },
      "execution_count": null,
      "outputs": []
    },
    {
      "cell_type": "code",
      "source": [
        "def remove_stop_words(index):\n",
        "    stop_words = {'a', 'an', 'the', 'and', 'or', 'in', 'on', 'at', 'to'}\n",
        "    for stop_word in stop_words:\n",
        "        if stop_word in index:\n",
        "            del index[stop_word]\n",
        "    return index"
      ],
      "metadata": {
        "id": "ouSUZ4rGALVN"
      },
      "execution_count": null,
      "outputs": []
    },
    {
      "cell_type": "code",
      "source": [
        "from nltk.stem import PorterStemmer\n",
        "\n",
        "def apply_stemming(index):\n",
        "    stemmer = PorterStemmer()\n",
        "    stemmed_index = {}\n",
        "    for word, count in index.items():\n",
        "        stemmed_word = stemmer.stem(word)\n",
        "        if stemmed_word in stemmed_index:\n",
        "            stemmed_index[stemmed_word] += count\n",
        "        else:\n",
        "            stemmed_index[stemmed_word] = count\n",
        "    return stemmed_index"
      ],
      "metadata": {
        "id": "iVZ_z6SoAORp"
      },
      "execution_count": null,
      "outputs": []
    },
    {
      "cell_type": "code",
      "source": [
        "def search(query, index):\n",
        "\n",
        "   stemmer = PorterStemmer()\n",
        "   query_words = re.findall(r'\\w+', query.lower())\n",
        "   print(query)\n",
        "   results = {}\n",
        "   for word in query_words:\n",
        "        word = stemmer.stem(word)\n",
        "        if word in index:\n",
        "            results[word] = index[word]\n",
        "   return results"
      ],
      "metadata": {
        "id": "6APQMWMoAgRl"
      },
      "execution_count": null,
      "outputs": []
    },
    {
      "cell_type": "code",
      "source": [
        "def search_engine(url, query):\n",
        "    soup = fetch_page(url)\n",
        "    if soup is None:\n",
        "        return None\n",
        "    index = index_words(soup)\n",
        "    index = remove_stop_words(index)\n",
        "    index = apply_stemming(index)\n",
        "    results = search(query, index)\n",
        "    return results"
      ],
      "metadata": {
        "id": "_ZYNczGAAiqt"
      },
      "execution_count": null,
      "outputs": []
    },
    {
      "cell_type": "code",
      "source": [
        "url = 'https://w3.braude.ac.il/?lang=en'\n",
        "query = 'Industry'\n",
        "results = search_engine(url, query)\n",
        "print(results)"
      ],
      "metadata": {
        "colab": {
          "base_uri": "https://localhost:8080/"
        },
        "id": "0vPlnqbEAjc7",
        "outputId": "022c6bd2-ed77-4442-9522-d6f4556ba727"
      },
      "execution_count": null,
      "outputs": [
        {
          "output_type": "stream",
          "name": "stdout",
          "text": [
            "Industry\n",
            "{'industri': 8}\n"
          ]
        }
      ]
    },
    {
      "cell_type": "code",
      "source": [
        "query = 'Braude college'\n",
        "results = search_engine(url, query)\n",
        "print(results)"
      ],
      "metadata": {
        "colab": {
          "base_uri": "https://localhost:8080/"
        },
        "id": "Tu5oV8omBERO",
        "outputId": "aabe861f-b0c4-4990-99e0-3815fd19c111"
      },
      "execution_count": null,
      "outputs": [
        {
          "output_type": "stream",
          "name": "stdout",
          "text": [
            "Braude college\n",
            "{'braud': 13, 'colleg': 8}\n"
          ]
        }
      ]
    },
    {
      "cell_type": "code",
      "source": [
        "query = 'Galilee center'\n",
        "results = search_engine(url, query)\n",
        "print(results)"
      ],
      "metadata": {
        "colab": {
          "base_uri": "https://localhost:8080/"
        },
        "id": "Kj0tFC46BKaG",
        "outputId": "ec1a51b0-150a-45ae-dc65-15ec2826a3d1"
      },
      "execution_count": null,
      "outputs": [
        {
          "output_type": "stream",
          "name": "stdout",
          "text": [
            "Galilee center\n",
            "{'galile': 15, 'center': 4}\n"
          ]
        }
      ]
    },
    {
      "cell_type": "code",
      "source": [
        "important = {\"Dynamic\", \"Deployment\", \"Edge\", \"Functions\", \"Rendering\", \"Regeneration\", \"API\", \"Network\", \"Domain\", \"Management\"}\n",
        "url = 'https://vercel.com/home'\n",
        "\n",
        "results_dict = {word: None for word in important}\n",
        "\n",
        "for word in important:\n",
        "    results = search_engine(url, word)\n",
        "    results_dict[word] = results[\"count\"]\n",
        "\n",
        "print(results_dict)\n"
      ],
      "metadata": {
        "colab": {
          "base_uri": "https://localhost:8080/"
        },
        "id": "E6mzhY2gEeHo",
        "outputId": "8d09d7b3-f614-4b66-b18d-bcc79b6e621d"
      },
      "execution_count": null,
      "outputs": [
        {
          "output_type": "stream",
          "name": "stdout",
          "text": [
            "{'Edge': 4, 'Functions': 9, 'Deployment': 10, 'Regeneration': 12, 'Rendering': 9, 'Dynamic': 7, 'Management': 10, 'API': 3, 'Domain': 6, 'Network': 7}\n"
          ]
        }
      ]
    },
    {
      "cell_type": "code",
      "source": [
        "!pip install firebase\n"
      ],
      "metadata": {
        "colab": {
          "base_uri": "https://localhost:8080/"
        },
        "id": "IdfweYxOPTUx",
        "outputId": "8f78b61a-e108-422e-e490-23951e98c5a3"
      },
      "execution_count": null,
      "outputs": [
        {
          "output_type": "stream",
          "name": "stdout",
          "text": [
            "Collecting firebase\n",
            "  Downloading firebase-4.0.1-py3-none-any.whl.metadata (6.5 kB)\n",
            "Requirement already satisfied: requests in /usr/local/lib/python3.10/dist-packages (from firebase) (2.32.3)\n",
            "Requirement already satisfied: charset-normalizer<4,>=2 in /usr/local/lib/python3.10/dist-packages (from requests->firebase) (3.4.0)\n",
            "Requirement already satisfied: idna<4,>=2.5 in /usr/local/lib/python3.10/dist-packages (from requests->firebase) (3.10)\n",
            "Requirement already satisfied: urllib3<3,>=1.21.1 in /usr/local/lib/python3.10/dist-packages (from requests->firebase) (2.2.3)\n",
            "Requirement already satisfied: certifi>=2017.4.17 in /usr/local/lib/python3.10/dist-packages (from requests->firebase) (2024.8.30)\n",
            "Downloading firebase-4.0.1-py3-none-any.whl (12 kB)\n",
            "Installing collected packages: firebase\n",
            "Successfully installed firebase-4.0.1\n"
          ]
        }
      ]
    },
    {
      "cell_type": "code",
      "source": [
        "from firebase import firebase\n",
        "import json\n",
        "\n",
        "FBconn = firebase.FirebaseApplication('https://anantirgul-default-rtdb.europe-west1.firebasedatabase.app/',None)\n",
        "\n",
        "result = FBconn.put('/index', 'keywords', results_dict)\n",
        "print(\"Saved to Firebase:\", result)\n",
        "\n"
      ],
      "metadata": {
        "colab": {
          "base_uri": "https://localhost:8080/"
        },
        "id": "nAB3uEpRN621",
        "outputId": "be48cb38-9f68-45e3-805a-a38236f4a43a"
      },
      "execution_count": null,
      "outputs": [
        {
          "output_type": "stream",
          "name": "stdout",
          "text": [
            "Saved to Firebase: {'API': 3, 'Deployment': 10, 'Domain': 6, 'Dynamic': 7, 'Edge': 4, 'Functions': 9, 'Management': 10, 'Network': 7, 'Regeneration': 12, 'Rendering': 9}\n"
          ]
        }
      ]
    }
  ]
}