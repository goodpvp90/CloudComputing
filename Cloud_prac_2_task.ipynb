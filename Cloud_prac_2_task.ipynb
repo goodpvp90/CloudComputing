{
  "nbformat": 4,
  "nbformat_minor": 0,
  "metadata": {
    "colab": {
      "provenance": []
    },
    "kernelspec": {
      "name": "python3",
      "display_name": "Python 3"
    },
    "language_info": {
      "name": "python"
    }
  },
  "cells": [
    {
      "cell_type": "markdown",
      "source": [
        "# **JSON Examples**"
      ],
      "metadata": {
        "id": "Tjmw8MY_r_Ni"
      }
    },
    {
      "cell_type": "code",
      "execution_count": null,
      "metadata": {
        "colab": {
          "base_uri": "https://localhost:8080/"
        },
        "id": "BByrvuJ1mvoO",
        "outputId": "ccfdc025-9cb5-4a20-df7f-e7276a909b6f"
      },
      "outputs": [
        {
          "output_type": "stream",
          "name": "stdout",
          "text": [
            "Dictionary:  {\"name\": \"John\", \"age\": 30}\n",
            "List:         [\"apple\", \"bananas\"]\n",
            "Tuple:        [\"apple\", \"bananas\"]\n",
            "String:        \"hello\"\n",
            "Integer:       42\n",
            "Float:         31.76\n",
            "True:          true\n",
            "False:         false\n",
            "None:          null\n"
          ]
        }
      ],
      "source": [
        "import json\n",
        "\n",
        "print(\"Dictionary: \", json.dumps({\"name\": \"John\", \"age\": 30}))\n",
        "print(\"List:        \", json.dumps([\"apple\", \"bananas\"]))\n",
        "print(\"Tuple:       \", json.dumps((\"apple\", \"bananas\")))\n",
        "print(\"String:       \", json.dumps(\"hello\"))\n",
        "print(\"Integer:      \", json.dumps(42))\n",
        "print(\"Float:        \", json.dumps(31.76))\n",
        "print(\"True:         \", json.dumps(True))\n",
        "print(\"False:        \", json.dumps(False))\n",
        "print(\"None:         \", json.dumps(None))"
      ]
    },
    {
      "cell_type": "code",
      "source": [
        "import json\n",
        "\n",
        "json_data = '{\"acronym\": \"BLD\", \"name\": \"Boulder Colorado\", \"latitude\": 40.00, \"longitude\": -105.25}'\n",
        "\n",
        "python_obj = json.loads(json_data)\n",
        "\n",
        "print(\"Name: \", python_obj[\"name\"])\n",
        "print(\"Acronym: \", python_obj[\"acronym\"])\n",
        "print(\"Latitude: \", python_obj[\"latitude\"])\n",
        "print(\"Longitude: \", python_obj[\"longitude\"])\n",
        "\n",
        "print()\n",
        "\n",
        "print(json.dumps(python_obj, sort_keys=True, indent=4))"
      ],
      "metadata": {
        "colab": {
          "base_uri": "https://localhost:8080/"
        },
        "id": "LSdZLciCnUNk",
        "outputId": "cc379e43-1b69-4329-c1dc-b41cc2099250"
      },
      "execution_count": null,
      "outputs": [
        {
          "output_type": "stream",
          "name": "stdout",
          "text": [
            "Name:  Boulder Colorado\n",
            "Acronym:  BLD\n",
            "Latitude:  40.0\n",
            "Longitude:  -105.25\n",
            "\n",
            "{\n",
            "    \"acronym\": \"BLD\",\n",
            "    \"latitude\": 40.0,\n",
            "    \"longitude\": -105.25,\n",
            "    \"name\": \"Boulder Colorado\"\n",
            "}\n"
          ]
        }
      ]
    },
    {
      "cell_type": "code",
      "source": [
        "import json\n",
        "\n",
        "array = '{\"drinks\": [\"coffee\", \"tea\", \"water\"]}'\n",
        "\n",
        "data = json.loads(array)\n",
        "\n",
        "print(json.dumps(data, sort_keys=True, indent=4))\n",
        "print()\n",
        "\n",
        "for element in data[\"drinks\"]:\n",
        "    print(element)"
      ],
      "metadata": {
        "colab": {
          "base_uri": "https://localhost:8080/"
        },
        "id": "XsGmvSaVoC47",
        "outputId": "dccb77d1-f2e7-44ea-fcb8-6fe5c7ad489c"
      },
      "execution_count": null,
      "outputs": [
        {
          "output_type": "stream",
          "name": "stdout",
          "text": [
            "{\n",
            "    \"drinks\": [\n",
            "        \"coffee\",\n",
            "        \"tea\",\n",
            "        \"water\"\n",
            "    ]\n",
            "}\n",
            "\n",
            "coffee\n",
            "tea\n",
            "water\n"
          ]
        }
      ]
    },
    {
      "cell_type": "code",
      "source": [
        "import json\n",
        "\n",
        "json_string = \"\"\"\n",
        "{\n",
        "    \"researcher\": {\n",
        "        \"name\": \"Ford Prefect\",\n",
        "        \"species\": \"Betelgeusian\",\n",
        "        \"relatives\": {\n",
        "            \"name\": \"Zaphod Beeblebrox\",\n",
        "            \"species\": \"Betelgeusian\"\n",
        "        }\n",
        "    }\n",
        "}\n",
        "\"\"\"\n",
        "\n",
        "data = json.loads(json_string)\n",
        "\n",
        "print(json.dumps(data, sort_keys=True, indent=4))"
      ],
      "metadata": {
        "colab": {
          "base_uri": "https://localhost:8080/"
        },
        "id": "YbzprmT8pAJZ",
        "outputId": "3bd08782-1c7c-40d2-9716-e59e95e34fb9"
      },
      "execution_count": null,
      "outputs": [
        {
          "output_type": "stream",
          "name": "stdout",
          "text": [
            "{\n",
            "    \"researcher\": {\n",
            "        \"name\": \"Ford Prefect\",\n",
            "        \"relatives\": {\n",
            "            \"name\": \"Zaphod Beeblebrox\",\n",
            "            \"species\": \"Betelgeusian\"\n",
            "        },\n",
            "        \"species\": \"Betelgeusian\"\n",
            "    }\n",
            "}\n"
          ]
        }
      ]
    },
    {
      "cell_type": "code",
      "source": [
        "import json\n",
        "from google.colab import drive\n",
        "drive.mount('/content/drive')"
      ],
      "metadata": {
        "colab": {
          "base_uri": "https://localhost:8080/"
        },
        "id": "3QyQhbZcqrP-",
        "outputId": "019f2df6-7df2-47fb-ce56-781c36e24cff"
      },
      "execution_count": null,
      "outputs": [
        {
          "output_type": "stream",
          "name": "stdout",
          "text": [
            "Drive already mounted at /content/drive; to attempt to forcibly remount, call drive.mount(\"/content/drive\", force_remount=True).\n"
          ]
        }
      ]
    },
    {
      "cell_type": "code",
      "source": [
        "x = {\n",
        "    \"name\": \"John\",\n",
        "    \"age\": 30,\n",
        "    \"married\": True,\n",
        "    \"divorced\": False,\n",
        "    \"children\": (\"Ann\", \"Billy\"),\n",
        "    \"pets\": None,\n",
        "    \"cars\": [\n",
        "        {\"model\": \"BMW 230\", \"mpg\": 27.5},\n",
        "        {\"model\": \"Ford Edge\", \"mpg\": 24.1}\n",
        "    ]\n",
        "}\n",
        "\n",
        "with open('/content/drive/My Drive/Cloud_practice/s1.json', \"w\") as fid:\n",
        "    json.dump(x, fid)"
      ],
      "metadata": {
        "id": "G_qGB02SrC2F"
      },
      "execution_count": null,
      "outputs": []
    },
    {
      "cell_type": "code",
      "source": [
        "with open('/content/drive/My Drive/s1.json', 'r') as fid:\n",
        "    z = json.load(fid)\n",
        "\n",
        "print(z)\n",
        "\n",
        "for key in z:\n",
        "    print(key + \":\\t\", z[key])"
      ],
      "metadata": {
        "colab": {
          "base_uri": "https://localhost:8080/"
        },
        "id": "sGDnREtjr7hs",
        "outputId": "98c3fc83-1838-48c2-8fa0-6ff9cfc1966e"
      },
      "execution_count": null,
      "outputs": [
        {
          "output_type": "stream",
          "name": "stdout",
          "text": [
            "{'name': 'John', 'age': 30, 'married': True, 'divorced': False, 'children': ['Ann', 'Billy'], 'pets': None, 'cars': [{'model': 'BMW 230', 'mpg': 27.5}, {'model': 'Ford Edge', 'mpg': 24.1}]}\n",
            "name:\t John\n",
            "age:\t 30\n",
            "married:\t True\n",
            "divorced:\t False\n",
            "children:\t ['Ann', 'Billy']\n",
            "pets:\t None\n",
            "cars:\t [{'model': 'BMW 230', 'mpg': 27.5}, {'model': 'Ford Edge', 'mpg': 24.1}]\n"
          ]
        }
      ]
    },
    {
      "cell_type": "code",
      "source": [
        "x_js = json.dumps(x)\n",
        "print(\"\\nCorresponding JSON Object: \\n\\t\", x_js)\n",
        "\n",
        "\n",
        "\n",
        "y = json.loads(x_js)\n",
        "\n",
        "print(\"\\nGoing back to Python: \\n\")\n",
        "\n",
        "for key in y:\n",
        "    print(key + \":\\t\", y[key])\n",
        "\n"
      ],
      "metadata": {
        "colab": {
          "base_uri": "https://localhost:8080/"
        },
        "id": "JrxRPPi9sJcE",
        "outputId": "b594371a-f19d-4b0e-d387-014ae2e5c471"
      },
      "execution_count": null,
      "outputs": [
        {
          "output_type": "stream",
          "name": "stdout",
          "text": [
            "\n",
            "Corresponding JSON Object: \n",
            "\t {\"name\": \"John\", \"age\": 30, \"married\": true, \"divorced\": false, \"children\": [\"Ann\", \"Billy\"], \"pets\": null, \"cars\": [{\"model\": \"BMW 230\", \"mpg\": 27.5}, {\"model\": \"Ford Edge\", \"mpg\": 24.1}]}\n",
            "\n",
            "Going back to Python: \n",
            "\n",
            "name:\t John\n",
            "age:\t 30\n",
            "married:\t True\n",
            "divorced:\t False\n",
            "children:\t ['Ann', 'Billy']\n",
            "pets:\t None\n",
            "cars:\t [{'model': 'BMW 230', 'mpg': 27.5}, {'model': 'Ford Edge', 'mpg': 24.1}]\n"
          ]
        }
      ]
    },
    {
      "cell_type": "code",
      "source": [
        "%%writefile apod.json\n",
        "{\n",
        "    \"media_type\": \"image\",\n",
        "    \"copyright\": \"Yin Hao\",\n",
        "    \"date\": \"2018-10-30\",\n",
        "    \"url\": \"https://apod.nasa.gov/apod/image/1810/Orionids_Hao_960.jpg\",\n",
        "    \"explanation\": \"Meteors have been shooting out from the constellation of Orion. This was expected, as October is the time of year for the Orionids Meteor Shower.  Pictured here, over two dozen meteors were caught in successively added exposures last October over Wulan Hada volcano in Inner Mongolia, China. The featured image shows multiple meteor streaks that can all be connected to a single small region on the sky called the radiant, here visible just above and to the left of the belt of Orion, The Orionids meteors started as sand sized bits expelled from Comet Halley during one of its trips to the inner Solar System. Comet Halley is actually responsible for two known meteor showers, the other known as the Eta Aquarids and visible every May. An Orionids image featured on APOD one year ago today from the same location shows the same car. Next month, the Leonids Meteor Shower from Comet Tempel-Tuttle should also result in some bright meteor streaks. Follow APOD on: Facebook, Instagram, Reddit, or Twitter\",\n",
        "    \"hdurl\": \"https://apod.nasa.gov/apod/image/1810/Orionids_Hao_2324.jpg\",\n",
        "    \"title\": \"Orionids Meteors over Inner Mongolia\",\n",
        "    \"service_version\": \"v1\"\n",
        "}\n",
        "\n"
      ],
      "metadata": {
        "id": "FrH40fyks54R",
        "outputId": "043889e3-578c-46fc-f7e3-a2221fb5ce8c",
        "colab": {
          "base_uri": "https://localhost:8080/"
        }
      },
      "execution_count": null,
      "outputs": [
        {
          "output_type": "stream",
          "name": "stdout",
          "text": [
            "Writing apod.json\n"
          ]
        }
      ]
    }
  ]
}