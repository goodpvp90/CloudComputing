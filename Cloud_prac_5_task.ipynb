{
  "cells": [
    {
      "cell_type": "code",
      "execution_count": null,
      "metadata": {
        "colab": {
          "base_uri": "https://localhost:8080/"
        },
        "id": "9AOVl3vj8Jhp",
        "outputId": "e4ba72b7-6c1d-4351-c6b4-ab16dbafea46"
      },
      "outputs": [
        {
          "name": "stdout",
          "output_type": "stream",
          "text": [
            "Collecting firebase\n",
            "  Downloading firebase-4.0.1-py3-none-any.whl.metadata (6.5 kB)\n",
            "Requirement already satisfied: requests in /usr/local/lib/python3.10/dist-packages (from firebase) (2.32.3)\n",
            "Requirement already satisfied: charset-normalizer<4,>=2 in /usr/local/lib/python3.10/dist-packages (from requests->firebase) (3.4.0)\n",
            "Requirement already satisfied: idna<4,>=2.5 in /usr/local/lib/python3.10/dist-packages (from requests->firebase) (3.10)\n",
            "Requirement already satisfied: urllib3<3,>=1.21.1 in /usr/local/lib/python3.10/dist-packages (from requests->firebase) (2.2.3)\n",
            "Requirement already satisfied: certifi>=2017.4.17 in /usr/local/lib/python3.10/dist-packages (from requests->firebase) (2024.8.30)\n",
            "Downloading firebase-4.0.1-py3-none-any.whl (12 kB)\n",
            "Installing collected packages: firebase\n",
            "Successfully installed firebase-4.0.1\n"
          ]
        }
      ],
      "source": [
        "!pip install firebase\n"
      ]
    },
    {
      "cell_type": "code",
      "execution_count": null,
      "metadata": {
        "colab": {
          "background_save": true,
          "base_uri": "https://localhost:8080/"
        },
        "id": "HwlsFsY09SJ2",
        "outputId": "3c2fcf05-07ac-4104-e67f-ecccb7387624"
      },
      "outputs": [
        {
          "name": "stdout",
          "output_type": "stream",
          "text": [
            "{'bla': 1, 'blaaa': 1}\n"
          ]
        }
      ],
      "source": [
        "from firebase import firebase\n",
        "import json\n",
        "\n",
        "FBconn = firebase.FirebaseApplication('https://anantirgul-default-rtdb.europe-west1.firebasedatabase.app/',None)\n",
        "\n",
        "\n",
        "\n",
        "\n",
        "def addText():\n",
        "  text = input (\"give text: \")\n",
        "  for word in text.split():\n",
        "    addWord(word)\n",
        "\n",
        "def addWord(word):\n",
        "  wordmap = {}\n",
        "  res=FBconn.get('/myTest1/',None)\n",
        "  for key in res:\n",
        "    wordmap.update(res[key])\n",
        "  print(wordmap)\n",
        "  if word in wordmap\n",
        "#  data_to_upload = {\n",
        "#      word : 1\n",
        "#  }\n",
        "#  result = FBconn.post('/myTest1/',data_to_upload)\n",
        " # print(result)\n",
        "\n",
        "\n",
        "\n",
        "def viewWords():\n",
        "  res=FBconn.get('/myTest1/',None)\n",
        "  for key in res:\n",
        "    print(res[key])\n",
        "\n",
        "\n",
        "def updateWordCount():\n",
        "  viewWords()\n",
        "  wordToUpdate = input(\"select a word to update: \")\n",
        "  if wordToUpdate not in wordmap:\n",
        "    print(\"error\")\n",
        "  else:\n",
        "    newCount = input(\"new count: \")\n",
        "    wordmap[wordToUpdate] = newCount\n",
        "\n",
        "def deleteWord():\n",
        "  viewWords()\n",
        "  wordToDelete = input(\"select a word to delete: \")\n",
        "  if wordToDelete not in wordmap:\n",
        "    print(\"error\")\n",
        "  else:\n",
        "    del wordmap[wordToDelete]\n",
        "\n",
        "\n",
        "while True:\n",
        "  selected = input(\"\"\"Common Word Counter Menu:\n",
        "  1. Add single word\n",
        "  2. Add text to analysis\n",
        "  3. Update word count\n",
        "  4. Delete word\n",
        "  5. View all words\n",
        "  6. Exit\\n\"\"\")\n",
        "  if selected == \"1\":\n",
        "    word = input(\"give word: \")\n",
        "    addWord(word)\n",
        "  elif selected == \"2\":\n",
        "    addText()\n",
        "  elif selected == \"3\":\n",
        "    updateWordCount()\n",
        "  elif selected == \"4\":\n",
        "    deleteWord()\n",
        "  elif selected == \"5\":\n",
        "    viewWords()\n",
        "  elif selected == \"6\":\n",
        "    break\n"
      ]
    }
  ],
  "metadata": {
    "colab": {
      "provenance": []
    },
    "kernelspec": {
      "display_name": "Python 3",
      "name": "python3"
    },
    "language_info": {
      "name": "python"
    }
  },
  "nbformat": 4,
  "nbformat_minor": 0
}