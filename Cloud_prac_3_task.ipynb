{
  "nbformat": 4,
  "nbformat_minor": 0,
  "metadata": {
    "colab": {
      "provenance": []
    },
    "kernelspec": {
      "name": "python3",
      "display_name": "Python 3"
    },
    "language_info": {
      "name": "python"
    },
    "widgets": {
      "application/vnd.jupyter.widget-state+json": {
        "3daffb4729274c1aa1aa6b969efcedf0": {
          "model_module": "@jupyter-widgets/controls",
          "model_name": "VBoxModel",
          "model_module_version": "1.5.0",
          "state": {
            "_dom_classes": [],
            "_model_module": "@jupyter-widgets/controls",
            "_model_module_version": "1.5.0",
            "_model_name": "VBoxModel",
            "_view_count": null,
            "_view_module": "@jupyter-widgets/controls",
            "_view_module_version": "1.5.0",
            "_view_name": "VBoxView",
            "box_style": "",
            "children": [
              "IPY_MODEL_258fc6bb28ef487d83006fb958e21ac4",
              "IPY_MODEL_bc9acbc9869c47d18189d71af6228a2d",
              "IPY_MODEL_f51ee15159584456a2f1492270cac03e"
            ],
            "layout": "IPY_MODEL_1291f2fcdf984e5c831fc57da7bec8f0"
          }
        },
        "258fc6bb28ef487d83006fb958e21ac4": {
          "model_module": "@jupyter-widgets/controls",
          "model_name": "DropdownModel",
          "model_module_version": "1.5.0",
          "state": {
            "_dom_classes": [],
            "_model_module": "@jupyter-widgets/controls",
            "_model_module_version": "1.5.0",
            "_model_name": "DropdownModel",
            "_options_labels": [
              "סוזוקי-יפן",
              "סקודה צ'כיה",
              "ב מ וו גרמניה",
              "קיה קוריאה",
              "מזדה יפן",
              "יונדאי צ'כיה",
              "יונדאי קוריאה",
              "יונדאי טורקיה",
              "אורה סין",
              "מזדה תאילנד",
              "מיצובישי יפן",
              "קאדילאק ארה\"ב",
              "קיה סלובקיה",
              "מרוטי-סוזוקי",
              "מרצדס בנץ ארהב",
              "טויוטה יפן",
              "הונדה-יפן",
              "שברולט ד.קוריא",
              "אלפא רומיאו",
              "וולבו בלגיה",
              "מרצדס בנץ גרמנ",
              "מיצובישי תאילנ",
              "טסלה סין",
              "פורד ספרד",
              "ב מ וו אוסטריה",
              "טויוטה טורקיה",
              "פיג'ו צרפת",
              "סוזוקי הונגריה",
              "פולקסווגן מכסי",
              "סובארו יפן",
              "פורד גרמניה",
              "פורד-בלגיה",
              "יונדאי הודו",
              "טויוטה צרפת",
              "ג'יפ ארה\"ב",
              "טויוטה אנגליה",
              "פיאט תורכיה",
              "דייהטסו-יפן",
              "הונדה טורקיה",
              "לקסוס יפן",
              "פולקסווגן גרמנ",
              "שברולט ארה\"ב",
              "ב מ וו ארה\"ב",
              "פיג'ו ספרד",
              "שברולט מקסיקו",
              "סיטרואן צרפת",
              "רובר אנגליה",
              "טויוטה ארה\"ב",
              "פולקסווגן-ספרד",
              "גילי סין",
              "הונדה בריטניה",
              "דימלרקריזלר-גר",
              "ג'ילי זיקר",
              "יגואר",
              "סיטרואן סלובק",
              "סיאט ספרד",
              "טסלה ארה''ב",
              "שברולט קנדה",
              "אופל פולין",
              "סיטרואן צ'כיה",
              "אופל אנגליה",
              "ביואיק ארהב",
              "ג'יפ איטליה",
              "פיאט פולין",
              "פורד תורכיה",
              "סיטרואן ספרד",
              "קרייזלר ארה\"ב",
              "ניסאן אנגליה",
              "איסוזו תאילנד",
              "ניסאן יפן",
              "מ.ג סין",
              "רנו ספרד",
              "אאודי",
              "אאודי סלובקיה",
              "ניסאן מקסיקו",
              "רנו טורקיה",
              "איסוזו ארה\"ב",
              "בי ווי די",
              "אופל-גרמניה",
              "סקודה סלובקיה",
              "מרצדס בנץ הונג",
              "ביואיק_מקסיקו",
              "רנו צרפת",
              "מרצדס בנץ ספרד",
              "אאודי בלגיה",
              "פולקסווגן סלוב",
              "טויוטה תאילנד",
              "פיג'ו סלובקיה",
              "איויאיסי סין",
              "רנו ד.קוריאה",
              "אקספנג סין",
              "צ'רי סין",
              "טסלה גרמניה",
              "טויוטה ספרד",
              "פולקסווגן פורט",
              "פורשה גרמניה",
              "לנדרובר סלובקי",
              "סוזוקי תאילנד",
              "סאנגיונג ד.קור",
              "מרצדס בנץ ד.אפ",
              "טויוטה צ'כיה",
              "אופל-ספרד",
              "פיאט איטליה",
              "קיה מכסיקו",
              "דאציה רומניה",
              "וולבו סין",
              "הונדה הודו",
              "הונדה מקסיקו",
              "וולבו שוודיה",
              "קרייזלר קנדה",
              "אופל-בלגיה",
              "ג'.מ ארה\"ב",
              "אודי מכסיקו",
              "סיטרואן פורטוג",
              "טויוטה בלגיה",
              "מזארטי איטליה",
              "ביואיק קנדה",
              "סיאט צ'כיה",
              "ב מ וו בריטניה",
              "ניסאן ארה\"ב",
              "ניסאן הודו",
              "סיטרואן תורכיה",
              "סקיוול סין",
              "ג'אקו סין",
              "ב מ וו סין",
              "קרייזלר-אוסטרי",
              "וולבו הולנד",
              "פורד קנדה",
              "ב מ וו מקסיקו",
              "קאדילאק מכסיקו",
              "קרייזלר מכסיקו",
              "סאאב שודיה",
              "פורד ארה\"ב",
              "הונדה תאילנד",
              "סרס סין",
              "ב מ וו הולנד",
              "פורד בריטניה",
              "מרצדס-בנץ אוסט",
              "מקסוס סין",
              "אונג'ר פולין",
              "קיי גי מוביליט",
              "וואי סין",
              "לנצ'יה",
              "פיג'ו צ'כיה",
              "דאציה מרוקו",
              "פולקסווגן פולי",
              "איסוזו יפן",
              "ניסאן ספרד",
              "מיצובישי הולנד",
              "ג'יפ מכסיקו",
              "הונדה-ארה\"ב",
              "וולבו ארה\"ב",
              "לנדרובר אנגליה",
              "סמארט צרפת",
              "איווייס סין",
              "דודג' קנדה",
              "לינק אנד קו",
              "אאודי הונגריה",
              "אופל צרפת",
              "סובארו ארה\"ב",
              "אאודי ספרד",
              "די.אס צרפת",
              "רנו סלובניה",
              "אופל ד.קוריאה",
              "דייהו קוריאה ד",
              "אמ.סי.סי.",
              "גרייט וול סין",
              "פורשה סלובקיה",
              "פורד רומניה",
              "פולקסווגן סין",
              "לנציה פולין",
              "סמארט סלובניה",
              "רנו רומניה",
              "סיאט בלגיה",
              "פולקסווגן בלגי",
              "פורתינג סין",
              "קופרה ספרד",
              "ליפמוטור סין",
              "סיאט גרמניה",
              "ג'י.אמ.סי",
              "בנטלי בריטניה",
              "פיאט פורטוגל",
              "פולקסווגן ד.אפ"
            ],
            "_view_count": null,
            "_view_module": "@jupyter-widgets/controls",
            "_view_module_version": "1.5.0",
            "_view_name": "DropdownView",
            "description": "Manufacturer:",
            "description_tooltip": null,
            "disabled": false,
            "index": 10,
            "layout": "IPY_MODEL_bfa1e2d6b79144f18792ba3c2df3750f",
            "style": "IPY_MODEL_b3ff4d177e764a45bb32fca3663b4faf"
          }
        },
        "bc9acbc9869c47d18189d71af6228a2d": {
          "model_module": "@jupyter-widgets/controls",
          "model_name": "DropdownModel",
          "model_module_version": "1.5.0",
          "state": {
            "_dom_classes": [],
            "_model_module": "@jupyter-widgets/controls",
            "_model_module_version": "1.5.0",
            "_model_name": "DropdownModel",
            "_options_labels": [
              "OUTLANDER",
              "LANCER",
              "GRANDIS",
              "ASX",
              "ECLIPSE CROSS",
              "PAJERO",
              "OUTLANDER PHEV",
              "LANCER SPORTBAC",
              "LANCER EVOLUTIO",
              "SPACE WAGON",
              "סופר לנסר ILG סלון",
              "GALANT",
              "COLT"
            ],
            "_view_count": null,
            "_view_module": "@jupyter-widgets/controls",
            "_view_module_version": "1.5.0",
            "_view_name": "DropdownView",
            "description": "Model:",
            "description_tooltip": null,
            "disabled": false,
            "index": 1,
            "layout": "IPY_MODEL_6bc8a3b359bb44d0b757279686a3e520",
            "style": "IPY_MODEL_db3561d1230643c1b0e69a8a9adde493"
          }
        },
        "f51ee15159584456a2f1492270cac03e": {
          "model_module": "@jupyter-widgets/controls",
          "model_name": "ButtonModel",
          "model_module_version": "1.5.0",
          "state": {
            "_dom_classes": [],
            "_model_module": "@jupyter-widgets/controls",
            "_model_module_version": "1.5.0",
            "_model_name": "ButtonModel",
            "_view_count": null,
            "_view_module": "@jupyter-widgets/controls",
            "_view_module_version": "1.5.0",
            "_view_name": "ButtonView",
            "button_style": "",
            "description": "Update Records",
            "disabled": false,
            "icon": "",
            "layout": "IPY_MODEL_a03264f8b49f48229eb61017e5c8a496",
            "style": "IPY_MODEL_67e2dbebb58041439204aa3731a87c4b",
            "tooltip": ""
          }
        },
        "1291f2fcdf984e5c831fc57da7bec8f0": {
          "model_module": "@jupyter-widgets/base",
          "model_name": "LayoutModel",
          "model_module_version": "1.2.0",
          "state": {
            "_model_module": "@jupyter-widgets/base",
            "_model_module_version": "1.2.0",
            "_model_name": "LayoutModel",
            "_view_count": null,
            "_view_module": "@jupyter-widgets/base",
            "_view_module_version": "1.2.0",
            "_view_name": "LayoutView",
            "align_content": null,
            "align_items": null,
            "align_self": null,
            "border": null,
            "bottom": null,
            "display": null,
            "flex": null,
            "flex_flow": null,
            "grid_area": null,
            "grid_auto_columns": null,
            "grid_auto_flow": null,
            "grid_auto_rows": null,
            "grid_column": null,
            "grid_gap": null,
            "grid_row": null,
            "grid_template_areas": null,
            "grid_template_columns": null,
            "grid_template_rows": null,
            "height": null,
            "justify_content": null,
            "justify_items": null,
            "left": null,
            "margin": null,
            "max_height": null,
            "max_width": null,
            "min_height": null,
            "min_width": null,
            "object_fit": null,
            "object_position": null,
            "order": null,
            "overflow": null,
            "overflow_x": null,
            "overflow_y": null,
            "padding": null,
            "right": null,
            "top": null,
            "visibility": null,
            "width": null
          }
        },
        "bfa1e2d6b79144f18792ba3c2df3750f": {
          "model_module": "@jupyter-widgets/base",
          "model_name": "LayoutModel",
          "model_module_version": "1.2.0",
          "state": {
            "_model_module": "@jupyter-widgets/base",
            "_model_module_version": "1.2.0",
            "_model_name": "LayoutModel",
            "_view_count": null,
            "_view_module": "@jupyter-widgets/base",
            "_view_module_version": "1.2.0",
            "_view_name": "LayoutView",
            "align_content": null,
            "align_items": null,
            "align_self": null,
            "border": null,
            "bottom": null,
            "display": null,
            "flex": null,
            "flex_flow": null,
            "grid_area": null,
            "grid_auto_columns": null,
            "grid_auto_flow": null,
            "grid_auto_rows": null,
            "grid_column": null,
            "grid_gap": null,
            "grid_row": null,
            "grid_template_areas": null,
            "grid_template_columns": null,
            "grid_template_rows": null,
            "height": null,
            "justify_content": null,
            "justify_items": null,
            "left": null,
            "margin": null,
            "max_height": null,
            "max_width": null,
            "min_height": null,
            "min_width": null,
            "object_fit": null,
            "object_position": null,
            "order": null,
            "overflow": null,
            "overflow_x": null,
            "overflow_y": null,
            "padding": null,
            "right": null,
            "top": null,
            "visibility": null,
            "width": null
          }
        },
        "b3ff4d177e764a45bb32fca3663b4faf": {
          "model_module": "@jupyter-widgets/controls",
          "model_name": "DescriptionStyleModel",
          "model_module_version": "1.5.0",
          "state": {
            "_model_module": "@jupyter-widgets/controls",
            "_model_module_version": "1.5.0",
            "_model_name": "DescriptionStyleModel",
            "_view_count": null,
            "_view_module": "@jupyter-widgets/base",
            "_view_module_version": "1.2.0",
            "_view_name": "StyleView",
            "description_width": "initial"
          }
        },
        "6bc8a3b359bb44d0b757279686a3e520": {
          "model_module": "@jupyter-widgets/base",
          "model_name": "LayoutModel",
          "model_module_version": "1.2.0",
          "state": {
            "_model_module": "@jupyter-widgets/base",
            "_model_module_version": "1.2.0",
            "_model_name": "LayoutModel",
            "_view_count": null,
            "_view_module": "@jupyter-widgets/base",
            "_view_module_version": "1.2.0",
            "_view_name": "LayoutView",
            "align_content": null,
            "align_items": null,
            "align_self": null,
            "border": null,
            "bottom": null,
            "display": null,
            "flex": null,
            "flex_flow": null,
            "grid_area": null,
            "grid_auto_columns": null,
            "grid_auto_flow": null,
            "grid_auto_rows": null,
            "grid_column": null,
            "grid_gap": null,
            "grid_row": null,
            "grid_template_areas": null,
            "grid_template_columns": null,
            "grid_template_rows": null,
            "height": null,
            "justify_content": null,
            "justify_items": null,
            "left": null,
            "margin": null,
            "max_height": null,
            "max_width": null,
            "min_height": null,
            "min_width": null,
            "object_fit": null,
            "object_position": null,
            "order": null,
            "overflow": null,
            "overflow_x": null,
            "overflow_y": null,
            "padding": null,
            "right": null,
            "top": null,
            "visibility": null,
            "width": null
          }
        },
        "db3561d1230643c1b0e69a8a9adde493": {
          "model_module": "@jupyter-widgets/controls",
          "model_name": "DescriptionStyleModel",
          "model_module_version": "1.5.0",
          "state": {
            "_model_module": "@jupyter-widgets/controls",
            "_model_module_version": "1.5.0",
            "_model_name": "DescriptionStyleModel",
            "_view_count": null,
            "_view_module": "@jupyter-widgets/base",
            "_view_module_version": "1.2.0",
            "_view_name": "StyleView",
            "description_width": "initial"
          }
        },
        "a03264f8b49f48229eb61017e5c8a496": {
          "model_module": "@jupyter-widgets/base",
          "model_name": "LayoutModel",
          "model_module_version": "1.2.0",
          "state": {
            "_model_module": "@jupyter-widgets/base",
            "_model_module_version": "1.2.0",
            "_model_name": "LayoutModel",
            "_view_count": null,
            "_view_module": "@jupyter-widgets/base",
            "_view_module_version": "1.2.0",
            "_view_name": "LayoutView",
            "align_content": null,
            "align_items": null,
            "align_self": null,
            "border": null,
            "bottom": null,
            "display": null,
            "flex": null,
            "flex_flow": null,
            "grid_area": null,
            "grid_auto_columns": null,
            "grid_auto_flow": null,
            "grid_auto_rows": null,
            "grid_column": null,
            "grid_gap": null,
            "grid_row": null,
            "grid_template_areas": null,
            "grid_template_columns": null,
            "grid_template_rows": null,
            "height": null,
            "justify_content": null,
            "justify_items": null,
            "left": null,
            "margin": null,
            "max_height": null,
            "max_width": null,
            "min_height": null,
            "min_width": null,
            "object_fit": null,
            "object_position": null,
            "order": null,
            "overflow": null,
            "overflow_x": null,
            "overflow_y": null,
            "padding": null,
            "right": null,
            "top": null,
            "visibility": null,
            "width": null
          }
        },
        "67e2dbebb58041439204aa3731a87c4b": {
          "model_module": "@jupyter-widgets/controls",
          "model_name": "ButtonStyleModel",
          "model_module_version": "1.5.0",
          "state": {
            "_model_module": "@jupyter-widgets/controls",
            "_model_module_version": "1.5.0",
            "_model_name": "ButtonStyleModel",
            "_view_count": null,
            "_view_module": "@jupyter-widgets/base",
            "_view_module_version": "1.2.0",
            "_view_name": "StyleView",
            "button_color": null,
            "font_weight": ""
          }
        }
      }
    }
  },
  "cells": [
    {
      "cell_type": "markdown",
      "source": [
        "**Imports**"
      ],
      "metadata": {
        "id": "tyBVvfSmPy7Y"
      }
    },
    {
      "cell_type": "code",
      "execution_count": null,
      "metadata": {
        "id": "AYyKXRYRxbjP"
      },
      "outputs": [],
      "source": [
        " import requests\n",
        "import pandas as pd\n",
        "import ipywidgets as widgets\n",
        "from google.colab.widgets import Grid"
      ]
    },
    {
      "cell_type": "markdown",
      "source": [
        "**Create a data frame from the dataset**"
      ],
      "metadata": {
        "id": "SJsJF-wzPwdz"
      }
    },
    {
      "cell_type": "code",
      "source": [
        "url = 'https://data.gov.il/api/3/action/datastore_search?resource_id=053cea08-09bc-40ec-8f7a-156f0677aff3'\n",
        "pd.set_option(\"display.max_columns\", None)\n",
        "response = requests.get(url)\n",
        "data = response.json()\n",
        "df = pd.DataFrame(data)\n",
        "\n",
        "data_df = pd.DataFrame(data['result']['records'])\n",
        "\n",
        "data_df.head()"
      ],
      "metadata": {
        "colab": {
          "base_uri": "https://localhost:8080/",
          "height": 313
        },
        "id": "8sqkcfB8PvTK",
        "outputId": "0c9f694e-efbf-4903-a101-eae27ced90eb"
      },
      "execution_count": null,
      "outputs": [
        {
          "output_type": "execute_result",
          "data": {
            "text/plain": [
              "   _id  mispar_rechev  tozeret_cd sug_degem     tozeret_nm  degem_cd  \\\n",
              "0    1        7709728         683         P     סוזוקי-יפן       351   \n",
              "1    2       85729303         676         P    סקודה צ'כיה      1569   \n",
              "2    3        9801152         676         P    סקודה צ'כיה       302   \n",
              "3    4       53052702         676         P    סקודה צ'כיה      1065   \n",
              "4    5       45282502         143         P  ב מ וו גרמניה      1296   \n",
              "\n",
              "    degem_nm ramat_gimur  ramat_eivzur_betihuty  kvutzat_zihum  shnat_yitzur  \\\n",
              "0     FHX51S          GL                    NaN            NaN          2001   \n",
              "1  NX-NX34JD       STYLE                    5.0            7.0          2024   \n",
              "2     5E3434    ELEGANCE                    NaN           15.0          2014   \n",
              "3     NX33LD     DYNAMIC                    2.0            7.0          2021   \n",
              "4       71DY    BUSINESS                    3.0           12.0          2021   \n",
              "\n",
              "  degem_manoa mivchan_acharon_dt    tokef_dt baalut           misgeret  \\\n",
              "0        M13A         2024-07-11  2024-12-03   פרטי  JSAFHX51S10100474   \n",
              "1         DFY         2024-08-07  2025-08-06   פרטי  TMBAR8NXXRY178334   \n",
              "2         CLH         2023-03-27  2024-03-10   פרטי  TMBAG7NE5E0147077   \n",
              "3         DLA         2024-03-07  2025-03-09   פרטי  TMBAP7NX8MY028697   \n",
              "4     B48B20A         2024-05-15  2025-01-19   פרטי  WBA71DY06MFK66386   \n",
              "\n",
              "   tzeva_cd    tzeva_rechev  zmig_kidmi  zmig_ahori sug_delek_nm  \\\n",
              "0        25             כסף   165/70R14   165/70R14        בנזין   \n",
              "1        22        אפור כהה  225/45 R18  225/45 R18        בנזין   \n",
              "2        80        שנהב לבן  205/55 R16  205/55 R16         דיזל   \n",
              "3        29        כסף מטלי  205/55 R17  205/55 R17        בנזין   \n",
              "4        15  אפור בהיר מטלי   225/50R17   225/50R17        בנזין   \n",
              "\n",
              "   horaat_rishum moed_aliya_lakvish kinuy_mishari  \n",
              "0            NaN               None         IGNIS  \n",
              "1       200950.0             2024-8       OCTAVIA  \n",
              "2       140049.0             2014-3       OCTAVIA  \n",
              "3       200950.0             2021-3       OCTAVIA  \n",
              "4       200998.0             2021-1          318I  "
            ],
            "text/html": [
              "\n",
              "  <div id=\"df-4e509862-0859-4054-a52c-64541d151992\" class=\"colab-df-container\">\n",
              "    <div>\n",
              "<style scoped>\n",
              "    .dataframe tbody tr th:only-of-type {\n",
              "        vertical-align: middle;\n",
              "    }\n",
              "\n",
              "    .dataframe tbody tr th {\n",
              "        vertical-align: top;\n",
              "    }\n",
              "\n",
              "    .dataframe thead th {\n",
              "        text-align: right;\n",
              "    }\n",
              "</style>\n",
              "<table border=\"1\" class=\"dataframe\">\n",
              "  <thead>\n",
              "    <tr style=\"text-align: right;\">\n",
              "      <th></th>\n",
              "      <th>_id</th>\n",
              "      <th>mispar_rechev</th>\n",
              "      <th>tozeret_cd</th>\n",
              "      <th>sug_degem</th>\n",
              "      <th>tozeret_nm</th>\n",
              "      <th>degem_cd</th>\n",
              "      <th>degem_nm</th>\n",
              "      <th>ramat_gimur</th>\n",
              "      <th>ramat_eivzur_betihuty</th>\n",
              "      <th>kvutzat_zihum</th>\n",
              "      <th>shnat_yitzur</th>\n",
              "      <th>degem_manoa</th>\n",
              "      <th>mivchan_acharon_dt</th>\n",
              "      <th>tokef_dt</th>\n",
              "      <th>baalut</th>\n",
              "      <th>misgeret</th>\n",
              "      <th>tzeva_cd</th>\n",
              "      <th>tzeva_rechev</th>\n",
              "      <th>zmig_kidmi</th>\n",
              "      <th>zmig_ahori</th>\n",
              "      <th>sug_delek_nm</th>\n",
              "      <th>horaat_rishum</th>\n",
              "      <th>moed_aliya_lakvish</th>\n",
              "      <th>kinuy_mishari</th>\n",
              "    </tr>\n",
              "  </thead>\n",
              "  <tbody>\n",
              "    <tr>\n",
              "      <th>0</th>\n",
              "      <td>1</td>\n",
              "      <td>7709728</td>\n",
              "      <td>683</td>\n",
              "      <td>P</td>\n",
              "      <td>סוזוקי-יפן</td>\n",
              "      <td>351</td>\n",
              "      <td>FHX51S</td>\n",
              "      <td>GL</td>\n",
              "      <td>NaN</td>\n",
              "      <td>NaN</td>\n",
              "      <td>2001</td>\n",
              "      <td>M13A</td>\n",
              "      <td>2024-07-11</td>\n",
              "      <td>2024-12-03</td>\n",
              "      <td>פרטי</td>\n",
              "      <td>JSAFHX51S10100474</td>\n",
              "      <td>25</td>\n",
              "      <td>כסף</td>\n",
              "      <td>165/70R14</td>\n",
              "      <td>165/70R14</td>\n",
              "      <td>בנזין</td>\n",
              "      <td>NaN</td>\n",
              "      <td>None</td>\n",
              "      <td>IGNIS</td>\n",
              "    </tr>\n",
              "    <tr>\n",
              "      <th>1</th>\n",
              "      <td>2</td>\n",
              "      <td>85729303</td>\n",
              "      <td>676</td>\n",
              "      <td>P</td>\n",
              "      <td>סקודה צ'כיה</td>\n",
              "      <td>1569</td>\n",
              "      <td>NX-NX34JD</td>\n",
              "      <td>STYLE</td>\n",
              "      <td>5.0</td>\n",
              "      <td>7.0</td>\n",
              "      <td>2024</td>\n",
              "      <td>DFY</td>\n",
              "      <td>2024-08-07</td>\n",
              "      <td>2025-08-06</td>\n",
              "      <td>פרטי</td>\n",
              "      <td>TMBAR8NXXRY178334</td>\n",
              "      <td>22</td>\n",
              "      <td>אפור כהה</td>\n",
              "      <td>225/45 R18</td>\n",
              "      <td>225/45 R18</td>\n",
              "      <td>בנזין</td>\n",
              "      <td>200950.0</td>\n",
              "      <td>2024-8</td>\n",
              "      <td>OCTAVIA</td>\n",
              "    </tr>\n",
              "    <tr>\n",
              "      <th>2</th>\n",
              "      <td>3</td>\n",
              "      <td>9801152</td>\n",
              "      <td>676</td>\n",
              "      <td>P</td>\n",
              "      <td>סקודה צ'כיה</td>\n",
              "      <td>302</td>\n",
              "      <td>5E3434</td>\n",
              "      <td>ELEGANCE</td>\n",
              "      <td>NaN</td>\n",
              "      <td>15.0</td>\n",
              "      <td>2014</td>\n",
              "      <td>CLH</td>\n",
              "      <td>2023-03-27</td>\n",
              "      <td>2024-03-10</td>\n",
              "      <td>פרטי</td>\n",
              "      <td>TMBAG7NE5E0147077</td>\n",
              "      <td>80</td>\n",
              "      <td>שנהב לבן</td>\n",
              "      <td>205/55 R16</td>\n",
              "      <td>205/55 R16</td>\n",
              "      <td>דיזל</td>\n",
              "      <td>140049.0</td>\n",
              "      <td>2014-3</td>\n",
              "      <td>OCTAVIA</td>\n",
              "    </tr>\n",
              "    <tr>\n",
              "      <th>3</th>\n",
              "      <td>4</td>\n",
              "      <td>53052702</td>\n",
              "      <td>676</td>\n",
              "      <td>P</td>\n",
              "      <td>סקודה צ'כיה</td>\n",
              "      <td>1065</td>\n",
              "      <td>NX33LD</td>\n",
              "      <td>DYNAMIC</td>\n",
              "      <td>2.0</td>\n",
              "      <td>7.0</td>\n",
              "      <td>2021</td>\n",
              "      <td>DLA</td>\n",
              "      <td>2024-03-07</td>\n",
              "      <td>2025-03-09</td>\n",
              "      <td>פרטי</td>\n",
              "      <td>TMBAP7NX8MY028697</td>\n",
              "      <td>29</td>\n",
              "      <td>כסף מטלי</td>\n",
              "      <td>205/55 R17</td>\n",
              "      <td>205/55 R17</td>\n",
              "      <td>בנזין</td>\n",
              "      <td>200950.0</td>\n",
              "      <td>2021-3</td>\n",
              "      <td>OCTAVIA</td>\n",
              "    </tr>\n",
              "    <tr>\n",
              "      <th>4</th>\n",
              "      <td>5</td>\n",
              "      <td>45282502</td>\n",
              "      <td>143</td>\n",
              "      <td>P</td>\n",
              "      <td>ב מ וו גרמניה</td>\n",
              "      <td>1296</td>\n",
              "      <td>71DY</td>\n",
              "      <td>BUSINESS</td>\n",
              "      <td>3.0</td>\n",
              "      <td>12.0</td>\n",
              "      <td>2021</td>\n",
              "      <td>B48B20A</td>\n",
              "      <td>2024-05-15</td>\n",
              "      <td>2025-01-19</td>\n",
              "      <td>פרטי</td>\n",
              "      <td>WBA71DY06MFK66386</td>\n",
              "      <td>15</td>\n",
              "      <td>אפור בהיר מטלי</td>\n",
              "      <td>225/50R17</td>\n",
              "      <td>225/50R17</td>\n",
              "      <td>בנזין</td>\n",
              "      <td>200998.0</td>\n",
              "      <td>2021-1</td>\n",
              "      <td>318I</td>\n",
              "    </tr>\n",
              "  </tbody>\n",
              "</table>\n",
              "</div>\n",
              "    <div class=\"colab-df-buttons\">\n",
              "\n",
              "  <div class=\"colab-df-container\">\n",
              "    <button class=\"colab-df-convert\" onclick=\"convertToInteractive('df-4e509862-0859-4054-a52c-64541d151992')\"\n",
              "            title=\"Convert this dataframe to an interactive table.\"\n",
              "            style=\"display:none;\">\n",
              "\n",
              "  <svg xmlns=\"http://www.w3.org/2000/svg\" height=\"24px\" viewBox=\"0 -960 960 960\">\n",
              "    <path d=\"M120-120v-720h720v720H120Zm60-500h600v-160H180v160Zm220 220h160v-160H400v160Zm0 220h160v-160H400v160ZM180-400h160v-160H180v160Zm440 0h160v-160H620v160ZM180-180h160v-160H180v160Zm440 0h160v-160H620v160Z\"/>\n",
              "  </svg>\n",
              "    </button>\n",
              "\n",
              "  <style>\n",
              "    .colab-df-container {\n",
              "      display:flex;\n",
              "      gap: 12px;\n",
              "    }\n",
              "\n",
              "    .colab-df-convert {\n",
              "      background-color: #E8F0FE;\n",
              "      border: none;\n",
              "      border-radius: 50%;\n",
              "      cursor: pointer;\n",
              "      display: none;\n",
              "      fill: #1967D2;\n",
              "      height: 32px;\n",
              "      padding: 0 0 0 0;\n",
              "      width: 32px;\n",
              "    }\n",
              "\n",
              "    .colab-df-convert:hover {\n",
              "      background-color: #E2EBFA;\n",
              "      box-shadow: 0px 1px 2px rgba(60, 64, 67, 0.3), 0px 1px 3px 1px rgba(60, 64, 67, 0.15);\n",
              "      fill: #174EA6;\n",
              "    }\n",
              "\n",
              "    .colab-df-buttons div {\n",
              "      margin-bottom: 4px;\n",
              "    }\n",
              "\n",
              "    [theme=dark] .colab-df-convert {\n",
              "      background-color: #3B4455;\n",
              "      fill: #D2E3FC;\n",
              "    }\n",
              "\n",
              "    [theme=dark] .colab-df-convert:hover {\n",
              "      background-color: #434B5C;\n",
              "      box-shadow: 0px 1px 3px 1px rgba(0, 0, 0, 0.15);\n",
              "      filter: drop-shadow(0px 1px 2px rgba(0, 0, 0, 0.3));\n",
              "      fill: #FFFFFF;\n",
              "    }\n",
              "  </style>\n",
              "\n",
              "    <script>\n",
              "      const buttonEl =\n",
              "        document.querySelector('#df-4e509862-0859-4054-a52c-64541d151992 button.colab-df-convert');\n",
              "      buttonEl.style.display =\n",
              "        google.colab.kernel.accessAllowed ? 'block' : 'none';\n",
              "\n",
              "      async function convertToInteractive(key) {\n",
              "        const element = document.querySelector('#df-4e509862-0859-4054-a52c-64541d151992');\n",
              "        const dataTable =\n",
              "          await google.colab.kernel.invokeFunction('convertToInteractive',\n",
              "                                                    [key], {});\n",
              "        if (!dataTable) return;\n",
              "\n",
              "        const docLinkHtml = 'Like what you see? Visit the ' +\n",
              "          '<a target=\"_blank\" href=https://colab.research.google.com/notebooks/data_table.ipynb>data table notebook</a>'\n",
              "          + ' to learn more about interactive tables.';\n",
              "        element.innerHTML = '';\n",
              "        dataTable['output_type'] = 'display_data';\n",
              "        await google.colab.output.renderOutput(dataTable, element);\n",
              "        const docLink = document.createElement('div');\n",
              "        docLink.innerHTML = docLinkHtml;\n",
              "        element.appendChild(docLink);\n",
              "      }\n",
              "    </script>\n",
              "  </div>\n",
              "\n",
              "\n",
              "<div id=\"df-096c9304-16ad-45de-ae9a-d95a64ffb825\">\n",
              "  <button class=\"colab-df-quickchart\" onclick=\"quickchart('df-096c9304-16ad-45de-ae9a-d95a64ffb825')\"\n",
              "            title=\"Suggest charts\"\n",
              "            style=\"display:none;\">\n",
              "\n",
              "<svg xmlns=\"http://www.w3.org/2000/svg\" height=\"24px\"viewBox=\"0 0 24 24\"\n",
              "     width=\"24px\">\n",
              "    <g>\n",
              "        <path d=\"M19 3H5c-1.1 0-2 .9-2 2v14c0 1.1.9 2 2 2h14c1.1 0 2-.9 2-2V5c0-1.1-.9-2-2-2zM9 17H7v-7h2v7zm4 0h-2V7h2v10zm4 0h-2v-4h2v4z\"/>\n",
              "    </g>\n",
              "</svg>\n",
              "  </button>\n",
              "\n",
              "<style>\n",
              "  .colab-df-quickchart {\n",
              "      --bg-color: #E8F0FE;\n",
              "      --fill-color: #1967D2;\n",
              "      --hover-bg-color: #E2EBFA;\n",
              "      --hover-fill-color: #174EA6;\n",
              "      --disabled-fill-color: #AAA;\n",
              "      --disabled-bg-color: #DDD;\n",
              "  }\n",
              "\n",
              "  [theme=dark] .colab-df-quickchart {\n",
              "      --bg-color: #3B4455;\n",
              "      --fill-color: #D2E3FC;\n",
              "      --hover-bg-color: #434B5C;\n",
              "      --hover-fill-color: #FFFFFF;\n",
              "      --disabled-bg-color: #3B4455;\n",
              "      --disabled-fill-color: #666;\n",
              "  }\n",
              "\n",
              "  .colab-df-quickchart {\n",
              "    background-color: var(--bg-color);\n",
              "    border: none;\n",
              "    border-radius: 50%;\n",
              "    cursor: pointer;\n",
              "    display: none;\n",
              "    fill: var(--fill-color);\n",
              "    height: 32px;\n",
              "    padding: 0;\n",
              "    width: 32px;\n",
              "  }\n",
              "\n",
              "  .colab-df-quickchart:hover {\n",
              "    background-color: var(--hover-bg-color);\n",
              "    box-shadow: 0 1px 2px rgba(60, 64, 67, 0.3), 0 1px 3px 1px rgba(60, 64, 67, 0.15);\n",
              "    fill: var(--button-hover-fill-color);\n",
              "  }\n",
              "\n",
              "  .colab-df-quickchart-complete:disabled,\n",
              "  .colab-df-quickchart-complete:disabled:hover {\n",
              "    background-color: var(--disabled-bg-color);\n",
              "    fill: var(--disabled-fill-color);\n",
              "    box-shadow: none;\n",
              "  }\n",
              "\n",
              "  .colab-df-spinner {\n",
              "    border: 2px solid var(--fill-color);\n",
              "    border-color: transparent;\n",
              "    border-bottom-color: var(--fill-color);\n",
              "    animation:\n",
              "      spin 1s steps(1) infinite;\n",
              "  }\n",
              "\n",
              "  @keyframes spin {\n",
              "    0% {\n",
              "      border-color: transparent;\n",
              "      border-bottom-color: var(--fill-color);\n",
              "      border-left-color: var(--fill-color);\n",
              "    }\n",
              "    20% {\n",
              "      border-color: transparent;\n",
              "      border-left-color: var(--fill-color);\n",
              "      border-top-color: var(--fill-color);\n",
              "    }\n",
              "    30% {\n",
              "      border-color: transparent;\n",
              "      border-left-color: var(--fill-color);\n",
              "      border-top-color: var(--fill-color);\n",
              "      border-right-color: var(--fill-color);\n",
              "    }\n",
              "    40% {\n",
              "      border-color: transparent;\n",
              "      border-right-color: var(--fill-color);\n",
              "      border-top-color: var(--fill-color);\n",
              "    }\n",
              "    60% {\n",
              "      border-color: transparent;\n",
              "      border-right-color: var(--fill-color);\n",
              "    }\n",
              "    80% {\n",
              "      border-color: transparent;\n",
              "      border-right-color: var(--fill-color);\n",
              "      border-bottom-color: var(--fill-color);\n",
              "    }\n",
              "    90% {\n",
              "      border-color: transparent;\n",
              "      border-bottom-color: var(--fill-color);\n",
              "    }\n",
              "  }\n",
              "</style>\n",
              "\n",
              "  <script>\n",
              "    async function quickchart(key) {\n",
              "      const quickchartButtonEl =\n",
              "        document.querySelector('#' + key + ' button');\n",
              "      quickchartButtonEl.disabled = true;  // To prevent multiple clicks.\n",
              "      quickchartButtonEl.classList.add('colab-df-spinner');\n",
              "      try {\n",
              "        const charts = await google.colab.kernel.invokeFunction(\n",
              "            'suggestCharts', [key], {});\n",
              "      } catch (error) {\n",
              "        console.error('Error during call to suggestCharts:', error);\n",
              "      }\n",
              "      quickchartButtonEl.classList.remove('colab-df-spinner');\n",
              "      quickchartButtonEl.classList.add('colab-df-quickchart-complete');\n",
              "    }\n",
              "    (() => {\n",
              "      let quickchartButtonEl =\n",
              "        document.querySelector('#df-096c9304-16ad-45de-ae9a-d95a64ffb825 button');\n",
              "      quickchartButtonEl.style.display =\n",
              "        google.colab.kernel.accessAllowed ? 'block' : 'none';\n",
              "    })();\n",
              "  </script>\n",
              "</div>\n",
              "\n",
              "    </div>\n",
              "  </div>\n"
            ],
            "application/vnd.google.colaboratory.intrinsic+json": {
              "type": "dataframe",
              "variable_name": "data_df"
            }
          },
          "metadata": {},
          "execution_count": 76
        }
      ]
    },
    {
      "cell_type": "markdown",
      "source": [
        "**Create a dictionary of the unique manufacturers and the cars they make**"
      ],
      "metadata": {
        "id": "q_klihoqP5L2"
      }
    },
    {
      "cell_type": "code",
      "source": [
        "maker_dict = {}\n",
        "# For each car in the data frame\n",
        "for index, car in data_df.iterrows():\n",
        "  # If the current \"totzeret\" does not exist yet in the dictionary, add a new value list to that key\n",
        "  if maker_dict.get(car[\"tozeret_nm\"]) == None:\n",
        "    maker_dict[car[\"tozeret_nm\"]] = []\n",
        "  # Add a new \"kinuy_mishari\" to the list of the current car manufacturer if it does not exist yet\n",
        "  if car[\"kinuy_mishari\"] not in maker_dict[car[\"tozeret_nm\"]]:\n",
        "    maker_dict[car[\"tozeret_nm\"]].append(car[\"kinuy_mishari\"])\n",
        "\n",
        "# Example:\n",
        "print(\"List of all models for maker Suzuki-Japan\", maker_dict[\"סוזוקי-יפן\"])"
      ],
      "metadata": {
        "colab": {
          "base_uri": "https://localhost:8080/"
        },
        "id": "eGySYZ5I0hSA",
        "outputId": "a96f405f-a0ad-4fdf-af8c-58750b8afb34"
      },
      "execution_count": null,
      "outputs": [
        {
          "output_type": "stream",
          "name": "stdout",
          "text": [
            "List of all models for maker Suzuki-Japan ['IGNIS', 'ליאנה', 'GRAND VITARA', 'SX4', 'SWIFT', 'LIANA', 'JIMNY', 'BALENO', 'SUPER BALENO', 'איגניס', 'סוזוקי יפן']\n"
          ]
        }
      ]
    },
    {
      "cell_type": "markdown",
      "source": [
        "**Create the widgets and display the unique colors for each car**"
      ],
      "metadata": {
        "id": "hvmjTRwWQBHb"
      }
    },
    {
      "cell_type": "code",
      "source": [
        "# Create a car manufacturer dropdown widget with all possible options\n",
        "car_dropdown = widgets.Dropdown(\n",
        "    options=list(maker_dict.keys()),\n",
        "    description='Manufacturer:',\n",
        "    style={'description_width': 'initial'}\n",
        ")\n",
        "\n",
        "# Create a car model dropdown widget with all possible options for the manufacturer \"car_dropdown.value\"\n",
        "model_dropdown = widgets.Dropdown(\n",
        "    options=maker_dict[car_dropdown.value],\n",
        "    description='Model:',\n",
        "    style={'description_width': 'initial'}\n",
        ")\n",
        "\n",
        "# Once the car manufacturer dropdown choice changes, change the model dropdown\n",
        "def update_model_dropdown(change):\n",
        "    # \"change\" contains the currently changed widget, column \"new\" is the new value name\n",
        "    selected_maker = change['new']\n",
        "    model_dropdown.options = maker_dict.get(selected_maker, [])  # Handle missing keys\n",
        "\n",
        "# Updates the grid to display all of the possible \"Ramot_gimur\" for the selected model\n",
        "def print_ramat_gimur(selected_model):\n",
        "    # Create new list\n",
        "    list_unique_ramat_gimur = []\n",
        "    # For each car in the dataset, where \"kinuy_mishari\" equals to the chosen car model\n",
        "    for index, row in data_df[data_df['kinuy_mishari'] == selected_model].iterrows():\n",
        "        # if the current car's \"ramat_gimur\" does not exist yet, add it to the list of unique \"ramot gimur\"\n",
        "        if row[\"ramat_gimur\"] not in list_unique_ramat_gimur:\n",
        "            list_unique_ramat_gimur.append(row[\"ramat_gimur\"])\n",
        "\n",
        "    # Display the list of ramot gimur for this model in index (1,1) of the grid\n",
        "    with grid.output_to(1, 1):\n",
        "      # Clear the current list of \"ramot gimur\"\n",
        "      grid.clear_cell()\n",
        "\n",
        "      ############### Cosmetic ####################\n",
        "      # This for loop is only here to make the \"ramat_gimur\" output go from [\"yellow\", \"blue\", \"red\"] to yellow, blue, red in the grid.\n",
        "      string_of_unique_ramat_gimur = \"\"\n",
        "      for index, ramat_gimur in enumerate(list_unique_ramat_gimur):\n",
        "        if index != len(list_unique_ramat_gimur) - 1:\n",
        "          string_of_unique_ramat_gimur += ramat_gimur + \", \"\n",
        "        else:\n",
        "          string_of_unique_ramat_gimur += ramat_gimur\n",
        "      ############### Cosmetic ####################\n",
        "      print(string_of_unique_ramat_gimur)\n",
        "\n",
        "# Once the button is pressed, update the grid to show number of cars of the specific model and their \"Ramat gimur\"\n",
        "def button_press(change):\n",
        "    # \"change\" contains the currently changed widget, column \"new\" is the new value name\n",
        "    selected_model = change['new']\n",
        "\n",
        "    # Update the grid to display the number of cars\n",
        "    with grid.output_to(0, 1):\n",
        "      grid.clear_cell()\n",
        "      print(len(data_df[data_df['kinuy_mishari'] == selected_model]))\n",
        "\n",
        "    # Call function \"print_ramat_gimur\" to update the grid with the unique style a model can have\n",
        "    print_ramat_gimur(selected_model)\n",
        "\n",
        "\n",
        "# Connect car dropdown change to update function\n",
        "car_dropdown.observe(update_model_dropdown, names='value')\n",
        "\n",
        "# Update car dropdown options with maker names\n",
        "car_dropdown.options = list(maker_dict.keys())\n",
        "\n",
        "# A button which updates the data in the grid\n",
        "update_button = widgets.Button(description='Update Records')\n",
        "update_button.on_click(lambda b: button_press({'new': model_dropdown.value}))\n",
        "\n",
        "# Display the widgets below\n",
        "display(widgets.VBox([car_dropdown, model_dropdown, update_button]))\n",
        "print(\"\\n\")\n",
        "\n",
        "# Create a grid to display data\n",
        "grid = Grid(2, 2, header_row=False, header_column=False)\n",
        "\n",
        "with grid.output_to(0, 0):\n",
        "  print(\"Total records:\")\n",
        "\n",
        "with grid.output_to(1, 0):\n",
        "  print(\"Unique Ramat Gimur:\")"
      ],
      "metadata": {
        "colab": {
          "base_uri": "https://localhost:8080/",
          "height": 189,
          "referenced_widgets": [
            "3daffb4729274c1aa1aa6b969efcedf0",
            "258fc6bb28ef487d83006fb958e21ac4",
            "bc9acbc9869c47d18189d71af6228a2d",
            "f51ee15159584456a2f1492270cac03e",
            "1291f2fcdf984e5c831fc57da7bec8f0",
            "bfa1e2d6b79144f18792ba3c2df3750f",
            "b3ff4d177e764a45bb32fca3663b4faf",
            "6bc8a3b359bb44d0b757279686a3e520",
            "db3561d1230643c1b0e69a8a9adde493",
            "a03264f8b49f48229eb61017e5c8a496",
            "67e2dbebb58041439204aa3731a87c4b"
          ]
        },
        "id": "svvIXFDk0MhR",
        "outputId": "f96c56e8-29fe-4de4-f5bd-4374e8c5400a"
      },
      "execution_count": null,
      "outputs": [
        {
          "output_type": "display_data",
          "data": {
            "text/plain": [
              "VBox(children=(Dropdown(description='Manufacturer:', options=('סוזוקי-יפן', \"סקודה צ'כיה\", 'ב מ וו גרמניה', 'ק…"
            ],
            "application/vnd.jupyter.widget-view+json": {
              "version_major": 2,
              "version_minor": 0,
              "model_id": "3daffb4729274c1aa1aa6b969efcedf0"
            }
          },
          "metadata": {}
        },
        {
          "output_type": "stream",
          "name": "stdout",
          "text": [
            "\n",
            "\n"
          ]
        },
        {
          "output_type": "display_data",
          "data": {
            "text/plain": [
              "<IPython.core.display.HTML object>"
            ],
            "text/html": [
              "<style>\n",
              "       table#id34, #id34 > tbody > tr > th, #id34 > tbody > tr > td {\n",
              "         border: 1px solid lightgray;\n",
              "         border-collapse:collapse;\n",
              "         \n",
              "        }</style>"
            ]
          },
          "metadata": {}
        },
        {
          "output_type": "display_data",
          "data": {
            "text/plain": [
              "<IPython.core.display.HTML object>"
            ],
            "text/html": [
              "<table id=id34><tr><td id=id34-0-0></td><td id=id34-0-1></td></tr><tr><td id=id34-1-0></td><td id=id34-1-1></td></tr></table>"
            ]
          },
          "metadata": {}
        },
        {
          "output_type": "display_data",
          "data": {
            "text/plain": [
              "<IPython.core.display.Javascript object>"
            ],
            "application/javascript": [
              "window[\"90851234-ab52-11ef-8fad-0242ac1c000c\"] = google.colab.output.getActiveOutputArea();\n",
              "//# sourceURL=js_ee46aeeb23"
            ]
          },
          "metadata": {}
        },
        {
          "output_type": "display_data",
          "data": {
            "text/plain": [
              "<IPython.core.display.Javascript object>"
            ],
            "application/javascript": [
              "window[\"90855d7a-ab52-11ef-8fad-0242ac1c000c\"] = document.querySelector(\"#id34-0-0\");\n",
              "//# sourceURL=js_341ac24475"
            ]
          },
          "metadata": {}
        },
        {
          "output_type": "display_data",
          "data": {
            "text/plain": [
              "<IPython.core.display.Javascript object>"
            ],
            "application/javascript": [
              "window[\"9085a55a-ab52-11ef-8fad-0242ac1c000c\"] = google.colab.output.setActiveOutputArea(window[\"90855d7a-ab52-11ef-8fad-0242ac1c000c\"]);\n",
              "//# sourceURL=js_f0cf31b816"
            ]
          },
          "metadata": {}
        },
        {
          "output_type": "stream",
          "name": "stdout",
          "text": [
            "Total records:\n"
          ]
        },
        {
          "output_type": "display_data",
          "data": {
            "text/plain": [
              "<IPython.core.display.Javascript object>"
            ],
            "application/javascript": [
              "window[\"90878820-ab52-11ef-8fad-0242ac1c000c\"] = google.colab.output.setActiveOutputArea(window[\"90851234-ab52-11ef-8fad-0242ac1c000c\"]);\n",
              "//# sourceURL=js_7f24267d54"
            ]
          },
          "metadata": {}
        },
        {
          "output_type": "display_data",
          "data": {
            "text/plain": [
              "<IPython.core.display.Javascript object>"
            ],
            "application/javascript": [
              "window[\"9089c8b0-ab52-11ef-8fad-0242ac1c000c\"] = google.colab.output.getActiveOutputArea();\n",
              "//# sourceURL=js_6b07fc8f09"
            ]
          },
          "metadata": {}
        },
        {
          "output_type": "display_data",
          "data": {
            "text/plain": [
              "<IPython.core.display.Javascript object>"
            ],
            "application/javascript": [
              "window[\"908a547e-ab52-11ef-8fad-0242ac1c000c\"] = document.querySelector(\"#id34-1-0\");\n",
              "//# sourceURL=js_e2198e0f77"
            ]
          },
          "metadata": {}
        },
        {
          "output_type": "display_data",
          "data": {
            "text/plain": [
              "<IPython.core.display.Javascript object>"
            ],
            "application/javascript": [
              "window[\"908abe1e-ab52-11ef-8fad-0242ac1c000c\"] = google.colab.output.setActiveOutputArea(window[\"908a547e-ab52-11ef-8fad-0242ac1c000c\"]);\n",
              "//# sourceURL=js_1adb151d18"
            ]
          },
          "metadata": {}
        },
        {
          "output_type": "stream",
          "name": "stdout",
          "text": [
            "Unique Ramat Gimur:\n"
          ]
        },
        {
          "output_type": "display_data",
          "data": {
            "text/plain": [
              "<IPython.core.display.Javascript object>"
            ],
            "application/javascript": [
              "window[\"908c6016-ab52-11ef-8fad-0242ac1c000c\"] = google.colab.output.setActiveOutputArea(window[\"9089c8b0-ab52-11ef-8fad-0242ac1c000c\"]);\n",
              "//# sourceURL=js_009c25053a"
            ]
          },
          "metadata": {}
        },
        {
          "output_type": "display_data",
          "data": {
            "text/plain": [
              "<IPython.core.display.Javascript object>"
            ],
            "application/javascript": [
              "window[\"9467211c-ab52-11ef-8fad-0242ac1c000c\"] = google.colab.output.getActiveOutputArea();\n",
              "//# sourceURL=js_e262581e09"
            ]
          },
          "metadata": {}
        },
        {
          "output_type": "display_data",
          "data": {
            "text/plain": [
              "<IPython.core.display.Javascript object>"
            ],
            "application/javascript": [
              "window[\"9467d5da-ab52-11ef-8fad-0242ac1c000c\"] = document.querySelector(\"#id34-0-1\");\n",
              "//# sourceURL=js_8622a9900b"
            ]
          },
          "metadata": {}
        },
        {
          "output_type": "display_data",
          "data": {
            "text/plain": [
              "<IPython.core.display.Javascript object>"
            ],
            "application/javascript": [
              "window[\"94682ca6-ab52-11ef-8fad-0242ac1c000c\"] = google.colab.output.setActiveOutputArea(window[\"9467d5da-ab52-11ef-8fad-0242ac1c000c\"]);\n",
              "//# sourceURL=js_90a14e40b8"
            ]
          },
          "metadata": {}
        },
        {
          "output_type": "display_data",
          "data": {
            "text/plain": [
              "<IPython.core.display.Javascript object>"
            ],
            "application/javascript": [
              "window[\"946d2cc4-ab52-11ef-8fad-0242ac1c000c\"] = google.colab.output.setActiveOutputArea(window[\"9467211c-ab52-11ef-8fad-0242ac1c000c\"]);\n",
              "//# sourceURL=js_1738d51e32"
            ]
          },
          "metadata": {}
        },
        {
          "output_type": "display_data",
          "data": {
            "text/plain": [
              "<IPython.core.display.Javascript object>"
            ],
            "application/javascript": [
              "window[\"94725b36-ab52-11ef-8fad-0242ac1c000c\"] = google.colab.output.getActiveOutputArea();\n",
              "//# sourceURL=js_f36f762593"
            ]
          },
          "metadata": {}
        },
        {
          "output_type": "display_data",
          "data": {
            "text/plain": [
              "<IPython.core.display.Javascript object>"
            ],
            "application/javascript": [
              "window[\"9472b2ca-ab52-11ef-8fad-0242ac1c000c\"] = document.querySelector(\"#id34-1-1\");\n",
              "//# sourceURL=js_56219f58a6"
            ]
          },
          "metadata": {}
        },
        {
          "output_type": "display_data",
          "data": {
            "text/plain": [
              "<IPython.core.display.Javascript object>"
            ],
            "application/javascript": [
              "window[\"947389ac-ab52-11ef-8fad-0242ac1c000c\"] = google.colab.output.setActiveOutputArea(window[\"9472b2ca-ab52-11ef-8fad-0242ac1c000c\"]);\n",
              "//# sourceURL=js_23d5d4472c"
            ]
          },
          "metadata": {}
        },
        {
          "output_type": "display_data",
          "data": {
            "text/plain": [
              "<IPython.core.display.Javascript object>"
            ],
            "application/javascript": [
              "window[\"94757c58-ab52-11ef-8fad-0242ac1c000c\"] = google.colab.output.setActiveOutputArea(window[\"94725b36-ab52-11ef-8fad-0242ac1c000c\"]);\n",
              "//# sourceURL=js_b3a358c799"
            ]
          },
          "metadata": {}
        },
        {
          "output_type": "display_data",
          "data": {
            "text/plain": [
              "<IPython.core.display.Javascript object>"
            ],
            "application/javascript": [
              "window[\"9639d4d0-ab52-11ef-8fad-0242ac1c000c\"] = google.colab.output.getActiveOutputArea();\n",
              "//# sourceURL=js_36e28a55c1"
            ]
          },
          "metadata": {}
        },
        {
          "output_type": "display_data",
          "data": {
            "text/plain": [
              "<IPython.core.display.Javascript object>"
            ],
            "application/javascript": [
              "window[\"963a39e8-ab52-11ef-8fad-0242ac1c000c\"] = document.querySelector(\"#id34-0-1\");\n",
              "//# sourceURL=js_6a29f5469f"
            ]
          },
          "metadata": {}
        },
        {
          "output_type": "display_data",
          "data": {
            "text/plain": [
              "<IPython.core.display.Javascript object>"
            ],
            "application/javascript": [
              "window[\"963ab67a-ab52-11ef-8fad-0242ac1c000c\"] = google.colab.output.setActiveOutputArea(window[\"963a39e8-ab52-11ef-8fad-0242ac1c000c\"]);\n",
              "//# sourceURL=js_3a00e520e6"
            ]
          },
          "metadata": {}
        },
        {
          "output_type": "display_data",
          "data": {
            "text/plain": [
              "<IPython.core.display.Javascript object>"
            ],
            "application/javascript": [
              "window[\"963e19aa-ab52-11ef-8fad-0242ac1c000c\"] = google.colab.output.setActiveOutputArea(window[\"9639d4d0-ab52-11ef-8fad-0242ac1c000c\"]);\n",
              "//# sourceURL=js_2da66577b0"
            ]
          },
          "metadata": {}
        },
        {
          "output_type": "display_data",
          "data": {
            "text/plain": [
              "<IPython.core.display.Javascript object>"
            ],
            "application/javascript": [
              "window[\"9642669a-ab52-11ef-8fad-0242ac1c000c\"] = google.colab.output.getActiveOutputArea();\n",
              "//# sourceURL=js_1999288c2f"
            ]
          },
          "metadata": {}
        },
        {
          "output_type": "display_data",
          "data": {
            "text/plain": [
              "<IPython.core.display.Javascript object>"
            ],
            "application/javascript": [
              "window[\"9642f024-ab52-11ef-8fad-0242ac1c000c\"] = document.querySelector(\"#id34-1-1\");\n",
              "//# sourceURL=js_618bc91ccb"
            ]
          },
          "metadata": {}
        },
        {
          "output_type": "display_data",
          "data": {
            "text/plain": [
              "<IPython.core.display.Javascript object>"
            ],
            "application/javascript": [
              "window[\"96435370-ab52-11ef-8fad-0242ac1c000c\"] = google.colab.output.setActiveOutputArea(window[\"9642f024-ab52-11ef-8fad-0242ac1c000c\"]);\n",
              "//# sourceURL=js_0e8ca4be9e"
            ]
          },
          "metadata": {}
        },
        {
          "output_type": "display_data",
          "data": {
            "text/plain": [
              "<IPython.core.display.Javascript object>"
            ],
            "application/javascript": [
              "window[\"9644e8fc-ab52-11ef-8fad-0242ac1c000c\"] = google.colab.output.setActiveOutputArea(window[\"9642669a-ab52-11ef-8fad-0242ac1c000c\"]);\n",
              "//# sourceURL=js_fd2ba1ab5c"
            ]
          },
          "metadata": {}
        },
        {
          "output_type": "display_data",
          "data": {
            "text/plain": [
              "<IPython.core.display.Javascript object>"
            ],
            "application/javascript": [
              "window[\"9809d4e0-ab52-11ef-8fad-0242ac1c000c\"] = google.colab.output.getActiveOutputArea();\n",
              "//# sourceURL=js_fa8acaa393"
            ]
          },
          "metadata": {}
        },
        {
          "output_type": "display_data",
          "data": {
            "text/plain": [
              "<IPython.core.display.Javascript object>"
            ],
            "application/javascript": [
              "window[\"980a6806-ab52-11ef-8fad-0242ac1c000c\"] = document.querySelector(\"#id34-0-1\");\n",
              "//# sourceURL=js_8ced8e8398"
            ]
          },
          "metadata": {}
        },
        {
          "output_type": "display_data",
          "data": {
            "text/plain": [
              "<IPython.core.display.Javascript object>"
            ],
            "application/javascript": [
              "window[\"980ad9bc-ab52-11ef-8fad-0242ac1c000c\"] = google.colab.output.setActiveOutputArea(window[\"980a6806-ab52-11ef-8fad-0242ac1c000c\"]);\n",
              "//# sourceURL=js_4ab8d76d26"
            ]
          },
          "metadata": {}
        },
        {
          "output_type": "display_data",
          "data": {
            "text/plain": [
              "<IPython.core.display.Javascript object>"
            ],
            "application/javascript": [
              "window[\"980f2206-ab52-11ef-8fad-0242ac1c000c\"] = google.colab.output.setActiveOutputArea(window[\"9809d4e0-ab52-11ef-8fad-0242ac1c000c\"]);\n",
              "//# sourceURL=js_ff39e5665f"
            ]
          },
          "metadata": {}
        },
        {
          "output_type": "display_data",
          "data": {
            "text/plain": [
              "<IPython.core.display.Javascript object>"
            ],
            "application/javascript": [
              "window[\"9812a55c-ab52-11ef-8fad-0242ac1c000c\"] = google.colab.output.getActiveOutputArea();\n",
              "//# sourceURL=js_dc8158935b"
            ]
          },
          "metadata": {}
        },
        {
          "output_type": "display_data",
          "data": {
            "text/plain": [
              "<IPython.core.display.Javascript object>"
            ],
            "application/javascript": [
              "window[\"98135088-ab52-11ef-8fad-0242ac1c000c\"] = document.querySelector(\"#id34-1-1\");\n",
              "//# sourceURL=js_a5949e68e8"
            ]
          },
          "metadata": {}
        },
        {
          "output_type": "display_data",
          "data": {
            "text/plain": [
              "<IPython.core.display.Javascript object>"
            ],
            "application/javascript": [
              "window[\"9813c6bc-ab52-11ef-8fad-0242ac1c000c\"] = google.colab.output.setActiveOutputArea(window[\"98135088-ab52-11ef-8fad-0242ac1c000c\"]);\n",
              "//# sourceURL=js_e1d6636957"
            ]
          },
          "metadata": {}
        },
        {
          "output_type": "display_data",
          "data": {
            "text/plain": [
              "<IPython.core.display.Javascript object>"
            ],
            "application/javascript": [
              "window[\"9814fe6a-ab52-11ef-8fad-0242ac1c000c\"] = google.colab.output.setActiveOutputArea(window[\"9812a55c-ab52-11ef-8fad-0242ac1c000c\"]);\n",
              "//# sourceURL=js_2c0688be1f"
            ]
          },
          "metadata": {}
        },
        {
          "output_type": "display_data",
          "data": {
            "text/plain": [
              "<IPython.core.display.Javascript object>"
            ],
            "application/javascript": [
              "window[\"99bd35f2-ab52-11ef-8fad-0242ac1c000c\"] = google.colab.output.getActiveOutputArea();\n",
              "//# sourceURL=js_1e98d89482"
            ]
          },
          "metadata": {}
        },
        {
          "output_type": "display_data",
          "data": {
            "text/plain": [
              "<IPython.core.display.Javascript object>"
            ],
            "application/javascript": [
              "window[\"99bd7d6e-ab52-11ef-8fad-0242ac1c000c\"] = document.querySelector(\"#id34-0-1\");\n",
              "//# sourceURL=js_feb74b8e99"
            ]
          },
          "metadata": {}
        },
        {
          "output_type": "display_data",
          "data": {
            "text/plain": [
              "<IPython.core.display.Javascript object>"
            ],
            "application/javascript": [
              "window[\"99be6940-ab52-11ef-8fad-0242ac1c000c\"] = google.colab.output.setActiveOutputArea(window[\"99bd7d6e-ab52-11ef-8fad-0242ac1c000c\"]);\n",
              "//# sourceURL=js_e8d2b6ebcc"
            ]
          },
          "metadata": {}
        },
        {
          "output_type": "display_data",
          "data": {
            "text/plain": [
              "<IPython.core.display.Javascript object>"
            ],
            "application/javascript": [
              "window[\"99c29fe2-ab52-11ef-8fad-0242ac1c000c\"] = google.colab.output.setActiveOutputArea(window[\"99bd35f2-ab52-11ef-8fad-0242ac1c000c\"]);\n",
              "//# sourceURL=js_c6a8836306"
            ]
          },
          "metadata": {}
        },
        {
          "output_type": "display_data",
          "data": {
            "text/plain": [
              "<IPython.core.display.Javascript object>"
            ],
            "application/javascript": [
              "window[\"99c5e620-ab52-11ef-8fad-0242ac1c000c\"] = google.colab.output.getActiveOutputArea();\n",
              "//# sourceURL=js_b24eef6179"
            ]
          },
          "metadata": {}
        },
        {
          "output_type": "display_data",
          "data": {
            "text/plain": [
              "<IPython.core.display.Javascript object>"
            ],
            "application/javascript": [
              "window[\"99c66744-ab52-11ef-8fad-0242ac1c000c\"] = document.querySelector(\"#id34-1-1\");\n",
              "//# sourceURL=js_0981f88d8b"
            ]
          },
          "metadata": {}
        },
        {
          "output_type": "display_data",
          "data": {
            "text/plain": [
              "<IPython.core.display.Javascript object>"
            ],
            "application/javascript": [
              "window[\"99c6c77a-ab52-11ef-8fad-0242ac1c000c\"] = google.colab.output.setActiveOutputArea(window[\"99c66744-ab52-11ef-8fad-0242ac1c000c\"]);\n",
              "//# sourceURL=js_a30d31ab66"
            ]
          },
          "metadata": {}
        },
        {
          "output_type": "display_data",
          "data": {
            "text/plain": [
              "<IPython.core.display.Javascript object>"
            ],
            "application/javascript": [
              "window[\"99c85bb2-ab52-11ef-8fad-0242ac1c000c\"] = google.colab.output.setActiveOutputArea(window[\"99c5e620-ab52-11ef-8fad-0242ac1c000c\"]);\n",
              "//# sourceURL=js_0906db45cc"
            ]
          },
          "metadata": {}
        },
        {
          "output_type": "display_data",
          "data": {
            "text/plain": [
              "<IPython.core.display.Javascript object>"
            ],
            "application/javascript": [
              "window[\"9b596624-ab52-11ef-8fad-0242ac1c000c\"] = google.colab.output.getActiveOutputArea();\n",
              "//# sourceURL=js_6d51fc79cf"
            ]
          },
          "metadata": {}
        },
        {
          "output_type": "display_data",
          "data": {
            "text/plain": [
              "<IPython.core.display.Javascript object>"
            ],
            "application/javascript": [
              "window[\"9b59d500-ab52-11ef-8fad-0242ac1c000c\"] = document.querySelector(\"#id34-0-1\");\n",
              "//# sourceURL=js_3577c8e049"
            ]
          },
          "metadata": {}
        },
        {
          "output_type": "display_data",
          "data": {
            "text/plain": [
              "<IPython.core.display.Javascript object>"
            ],
            "application/javascript": [
              "window[\"9b5a44d6-ab52-11ef-8fad-0242ac1c000c\"] = google.colab.output.setActiveOutputArea(window[\"9b59d500-ab52-11ef-8fad-0242ac1c000c\"]);\n",
              "//# sourceURL=js_f2c105fddf"
            ]
          },
          "metadata": {}
        },
        {
          "output_type": "display_data",
          "data": {
            "text/plain": [
              "<IPython.core.display.Javascript object>"
            ],
            "application/javascript": [
              "window[\"9b5e063e-ab52-11ef-8fad-0242ac1c000c\"] = google.colab.output.setActiveOutputArea(window[\"9b596624-ab52-11ef-8fad-0242ac1c000c\"]);\n",
              "//# sourceURL=js_297d0e6b19"
            ]
          },
          "metadata": {}
        },
        {
          "output_type": "display_data",
          "data": {
            "text/plain": [
              "<IPython.core.display.Javascript object>"
            ],
            "application/javascript": [
              "window[\"9b615c76-ab52-11ef-8fad-0242ac1c000c\"] = google.colab.output.getActiveOutputArea();\n",
              "//# sourceURL=js_c01f40073c"
            ]
          },
          "metadata": {}
        },
        {
          "output_type": "display_data",
          "data": {
            "text/plain": [
              "<IPython.core.display.Javascript object>"
            ],
            "application/javascript": [
              "window[\"9b61be64-ab52-11ef-8fad-0242ac1c000c\"] = document.querySelector(\"#id34-1-1\");\n",
              "//# sourceURL=js_494991418f"
            ]
          },
          "metadata": {}
        },
        {
          "output_type": "display_data",
          "data": {
            "text/plain": [
              "<IPython.core.display.Javascript object>"
            ],
            "application/javascript": [
              "window[\"9b6256a8-ab52-11ef-8fad-0242ac1c000c\"] = google.colab.output.setActiveOutputArea(window[\"9b61be64-ab52-11ef-8fad-0242ac1c000c\"]);\n",
              "//# sourceURL=js_0b5319a571"
            ]
          },
          "metadata": {}
        },
        {
          "output_type": "display_data",
          "data": {
            "text/plain": [
              "<IPython.core.display.Javascript object>"
            ],
            "application/javascript": [
              "window[\"9b63dabe-ab52-11ef-8fad-0242ac1c000c\"] = google.colab.output.setActiveOutputArea(window[\"9b615c76-ab52-11ef-8fad-0242ac1c000c\"]);\n",
              "//# sourceURL=js_f03badd8cd"
            ]
          },
          "metadata": {}
        },
        {
          "output_type": "display_data",
          "data": {
            "text/plain": [
              "<IPython.core.display.Javascript object>"
            ],
            "application/javascript": [
              "window[\"9feb9d2e-ab52-11ef-8fad-0242ac1c000c\"] = google.colab.output.getActiveOutputArea();\n",
              "//# sourceURL=js_70c3dbc7ff"
            ]
          },
          "metadata": {}
        },
        {
          "output_type": "display_data",
          "data": {
            "text/plain": [
              "<IPython.core.display.Javascript object>"
            ],
            "application/javascript": [
              "window[\"9fec0138-ab52-11ef-8fad-0242ac1c000c\"] = document.querySelector(\"#id34-0-1\");\n",
              "//# sourceURL=js_f673824e11"
            ]
          },
          "metadata": {}
        },
        {
          "output_type": "display_data",
          "data": {
            "text/plain": [
              "<IPython.core.display.Javascript object>"
            ],
            "application/javascript": [
              "window[\"9fec6c22-ab52-11ef-8fad-0242ac1c000c\"] = google.colab.output.setActiveOutputArea(window[\"9fec0138-ab52-11ef-8fad-0242ac1c000c\"]);\n",
              "//# sourceURL=js_1e0e2c8a0f"
            ]
          },
          "metadata": {}
        },
        {
          "output_type": "display_data",
          "data": {
            "text/plain": [
              "<IPython.core.display.Javascript object>"
            ],
            "application/javascript": [
              "window[\"9fefa176-ab52-11ef-8fad-0242ac1c000c\"] = google.colab.output.setActiveOutputArea(window[\"9feb9d2e-ab52-11ef-8fad-0242ac1c000c\"]);\n",
              "//# sourceURL=js_dd0b109355"
            ]
          },
          "metadata": {}
        },
        {
          "output_type": "display_data",
          "data": {
            "text/plain": [
              "<IPython.core.display.Javascript object>"
            ],
            "application/javascript": [
              "window[\"9ff67686-ab52-11ef-8fad-0242ac1c000c\"] = google.colab.output.getActiveOutputArea();\n",
              "//# sourceURL=js_0f2ea79eb0"
            ]
          },
          "metadata": {}
        },
        {
          "output_type": "display_data",
          "data": {
            "text/plain": [
              "<IPython.core.display.Javascript object>"
            ],
            "application/javascript": [
              "window[\"9ff6d784-ab52-11ef-8fad-0242ac1c000c\"] = document.querySelector(\"#id34-1-1\");\n",
              "//# sourceURL=js_85f3b481ba"
            ]
          },
          "metadata": {}
        },
        {
          "output_type": "display_data",
          "data": {
            "text/plain": [
              "<IPython.core.display.Javascript object>"
            ],
            "application/javascript": [
              "window[\"9ff73968-ab52-11ef-8fad-0242ac1c000c\"] = google.colab.output.setActiveOutputArea(window[\"9ff6d784-ab52-11ef-8fad-0242ac1c000c\"]);\n",
              "//# sourceURL=js_d2d76d7066"
            ]
          },
          "metadata": {}
        },
        {
          "output_type": "display_data",
          "data": {
            "text/plain": [
              "<IPython.core.display.Javascript object>"
            ],
            "application/javascript": [
              "window[\"9ff99e7e-ab52-11ef-8fad-0242ac1c000c\"] = google.colab.output.setActiveOutputArea(window[\"9ff67686-ab52-11ef-8fad-0242ac1c000c\"]);\n",
              "//# sourceURL=js_9d89cea693"
            ]
          },
          "metadata": {}
        },
        {
          "output_type": "display_data",
          "data": {
            "text/plain": [
              "<IPython.core.display.Javascript object>"
            ],
            "application/javascript": [
              "window[\"a23c0992-ab52-11ef-8fad-0242ac1c000c\"] = google.colab.output.getActiveOutputArea();\n",
              "//# sourceURL=js_d5ef21c8eb"
            ]
          },
          "metadata": {}
        },
        {
          "output_type": "display_data",
          "data": {
            "text/plain": [
              "<IPython.core.display.Javascript object>"
            ],
            "application/javascript": [
              "window[\"a23c747c-ab52-11ef-8fad-0242ac1c000c\"] = document.querySelector(\"#id34-0-1\");\n",
              "//# sourceURL=js_c248d33ca3"
            ]
          },
          "metadata": {}
        },
        {
          "output_type": "display_data",
          "data": {
            "text/plain": [
              "<IPython.core.display.Javascript object>"
            ],
            "application/javascript": [
              "window[\"a23cdb4c-ab52-11ef-8fad-0242ac1c000c\"] = google.colab.output.setActiveOutputArea(window[\"a23c747c-ab52-11ef-8fad-0242ac1c000c\"]);\n",
              "//# sourceURL=js_7347c0f517"
            ]
          },
          "metadata": {}
        },
        {
          "output_type": "display_data",
          "data": {
            "text/plain": [
              "<IPython.core.display.Javascript object>"
            ],
            "application/javascript": [
              "window[\"a240cf7c-ab52-11ef-8fad-0242ac1c000c\"] = google.colab.output.setActiveOutputArea(window[\"a23c0992-ab52-11ef-8fad-0242ac1c000c\"]);\n",
              "//# sourceURL=js_c5569ba068"
            ]
          },
          "metadata": {}
        },
        {
          "output_type": "display_data",
          "data": {
            "text/plain": [
              "<IPython.core.display.Javascript object>"
            ],
            "application/javascript": [
              "window[\"a24ab4d8-ab52-11ef-8fad-0242ac1c000c\"] = google.colab.output.getActiveOutputArea();\n",
              "//# sourceURL=js_ba4f3060be"
            ]
          },
          "metadata": {}
        },
        {
          "output_type": "display_data",
          "data": {
            "text/plain": [
              "<IPython.core.display.Javascript object>"
            ],
            "application/javascript": [
              "window[\"a24b1478-ab52-11ef-8fad-0242ac1c000c\"] = document.querySelector(\"#id34-1-1\");\n",
              "//# sourceURL=js_aeae8bdcbf"
            ]
          },
          "metadata": {}
        },
        {
          "output_type": "display_data",
          "data": {
            "text/plain": [
              "<IPython.core.display.Javascript object>"
            ],
            "application/javascript": [
              "window[\"a24b977c-ab52-11ef-8fad-0242ac1c000c\"] = google.colab.output.setActiveOutputArea(window[\"a24b1478-ab52-11ef-8fad-0242ac1c000c\"]);\n",
              "//# sourceURL=js_18041a1bdd"
            ]
          },
          "metadata": {}
        },
        {
          "output_type": "display_data",
          "data": {
            "text/plain": [
              "<IPython.core.display.Javascript object>"
            ],
            "application/javascript": [
              "window[\"a24e050c-ab52-11ef-8fad-0242ac1c000c\"] = google.colab.output.setActiveOutputArea(window[\"a24ab4d8-ab52-11ef-8fad-0242ac1c000c\"]);\n",
              "//# sourceURL=js_a10aa7af5d"
            ]
          },
          "metadata": {}
        },
        {
          "output_type": "display_data",
          "data": {
            "text/plain": [
              "<IPython.core.display.Javascript object>"
            ],
            "application/javascript": [
              "window[\"a6db3590-ab52-11ef-8fad-0242ac1c000c\"] = google.colab.output.getActiveOutputArea();\n",
              "//# sourceURL=js_2049266d4d"
            ]
          },
          "metadata": {}
        },
        {
          "output_type": "display_data",
          "data": {
            "text/plain": [
              "<IPython.core.display.Javascript object>"
            ],
            "application/javascript": [
              "window[\"a6dbc56e-ab52-11ef-8fad-0242ac1c000c\"] = document.querySelector(\"#id34-0-1\");\n",
              "//# sourceURL=js_b3f0de4d4d"
            ]
          },
          "metadata": {}
        },
        {
          "output_type": "display_data",
          "data": {
            "text/plain": [
              "<IPython.core.display.Javascript object>"
            ],
            "application/javascript": [
              "window[\"a6dc1b40-ab52-11ef-8fad-0242ac1c000c\"] = google.colab.output.setActiveOutputArea(window[\"a6dbc56e-ab52-11ef-8fad-0242ac1c000c\"]);\n",
              "//# sourceURL=js_8d3f38e8c0"
            ]
          },
          "metadata": {}
        },
        {
          "output_type": "stream",
          "name": "stdout",
          "text": [
            "673\n"
          ]
        },
        {
          "output_type": "display_data",
          "data": {
            "text/plain": [
              "<IPython.core.display.Javascript object>"
            ],
            "application/javascript": [
              "window[\"a6df8cb2-ab52-11ef-8fad-0242ac1c000c\"] = google.colab.output.setActiveOutputArea(window[\"a6db3590-ab52-11ef-8fad-0242ac1c000c\"]);\n",
              "//# sourceURL=js_f3ce80913e"
            ]
          },
          "metadata": {}
        },
        {
          "output_type": "display_data",
          "data": {
            "text/plain": [
              "<IPython.core.display.Javascript object>"
            ],
            "application/javascript": [
              "window[\"a6e83d6c-ab52-11ef-8fad-0242ac1c000c\"] = google.colab.output.getActiveOutputArea();\n",
              "//# sourceURL=js_dc9747e5ba"
            ]
          },
          "metadata": {}
        },
        {
          "output_type": "display_data",
          "data": {
            "text/plain": [
              "<IPython.core.display.Javascript object>"
            ],
            "application/javascript": [
              "window[\"a6e89d48-ab52-11ef-8fad-0242ac1c000c\"] = document.querySelector(\"#id34-1-1\");\n",
              "//# sourceURL=js_a9bfe4e4ee"
            ]
          },
          "metadata": {}
        },
        {
          "output_type": "display_data",
          "data": {
            "text/plain": [
              "<IPython.core.display.Javascript object>"
            ],
            "application/javascript": [
              "window[\"a6e91138-ab52-11ef-8fad-0242ac1c000c\"] = google.colab.output.setActiveOutputArea(window[\"a6e89d48-ab52-11ef-8fad-0242ac1c000c\"]);\n",
              "//# sourceURL=js_8290f8b21c"
            ]
          },
          "metadata": {}
        },
        {
          "output_type": "stream",
          "name": "stdout",
          "text": [
            "PREMIUM, SPORT, INVITE, EXECUTEVE, EXECUTIVE, LIMITED, INSTYLE, GLX, EXECUTI PLUS, COMFORT, GL, EXCLUSIVE, SALON GLI, SPORT F\n"
          ]
        },
        {
          "output_type": "display_data",
          "data": {
            "text/plain": [
              "<IPython.core.display.Javascript object>"
            ],
            "application/javascript": [
              "window[\"a6eb7676-ab52-11ef-8fad-0242ac1c000c\"] = google.colab.output.setActiveOutputArea(window[\"a6e83d6c-ab52-11ef-8fad-0242ac1c000c\"]);\n",
              "//# sourceURL=js_9367e7fb69"
            ]
          },
          "metadata": {}
        }
      ]
    }
  ]
}